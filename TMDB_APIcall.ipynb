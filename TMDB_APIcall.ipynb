{
 "cells": [
  {
   "cell_type": "code",
   "execution_count": 1,
   "metadata": {},
   "outputs": [],
   "source": [
    "\"\"\" This is a separate file for my TMDB API call and translation table creation to map movie genres IDS to movie genre names \"\"\"\n",
    "\n",
    "import json\n",
    "import requests\n",
    "import os.path\n"
   ]
  },
  {
   "cell_type": "code",
   "execution_count": 2,
   "metadata": {},
   "outputs": [],
   "source": [
    "\n",
    "##These are two function I wrote when completing a LinkedIn Challenge earlier to read and write files.\n",
    "def create_dict(contents):\n",
    "    \"\"\"This function writes the contents to the user input file path and file name.\"\"\"\n",
    "    #contents = {'one':1, 'two':2, 'three':3}\n",
    "    print(type(contents))\n",
    "    print(\"Please enter the destination file path and name : \") #\\n<For example C:\\Users\\User1\\myfile.txt>\")\n",
    "    file_name = input()\n",
    "    file1 = open(file_name, \"w\")\n",
    "    with open(file_name,'w') as file1: #This saves the file as a string in the file path\n",
    "      file1.write(str(contents))\n",
    "    file1.close()\n",
    "    return\n",
    "\n",
    "\n",
    "def retrieve_dict():\n",
    "    \"\"\" This function currently opens the file and returns the text file as a string and then converts it to a dictionary. \"\"\"\n",
    "    print(\"Please enter the file path and name of the dictionary file to open:\")\n",
    "    file_name = input(\"(opening files that are not formatted as dictionaries will cause errors): \")\n",
    "    file2 = open(file_name, \"r\")\n",
    "    file2_string = file2.read()\n",
    "    file2.close()\n",
    "    print(\"This is the string read from file: \" + file2_string)\n",
    "    new_dict = eval(file2_string) #If this isn't a dictionary, this will throw errors.\n",
    "    #print(\"This is the results of the eval\")\n",
    "    #print(type(new_dict))\n",
    "    print(new_dict)\n",
    "    return\n",
    "\n"
   ]
  },
  {
   "cell_type": "code",
   "execution_count": 6,
   "metadata": {},
   "outputs": [
    {
     "name": "stdout",
     "output_type": "stream",
     "text": [
      "{\"genres\":[{\"id\":28,\"name\":\"Action\"},{\"id\":12,\"name\":\"Adventure\"},{\"id\":16,\"name\":\"Animation\"},{\"id\":35,\"name\":\"Comedy\"},{\"id\":80,\"name\":\"Crime\"},{\"id\":99,\"name\":\"Documentary\"},{\"id\":18,\"name\":\"Drama\"},{\"id\":10751,\"name\":\"Family\"},{\"id\":14,\"name\":\"Fantasy\"},{\"id\":36,\"name\":\"History\"},{\"id\":27,\"name\":\"Horror\"},{\"id\":10402,\"name\":\"Music\"},{\"id\":9648,\"name\":\"Mystery\"},{\"id\":10749,\"name\":\"Romance\"},{\"id\":878,\"name\":\"Science Fiction\"},{\"id\":10770,\"name\":\"TV Movie\"},{\"id\":53,\"name\":\"Thriller\"},{\"id\":10752,\"name\":\"War\"},{\"id\":37,\"name\":\"Western\"}]}\n",
      "This is the string read from file: {\"genres\":[{\"id\":28,\"name\":\"Action\"},{\"id\":12,\"name\":\"Adventure\"},{\"id\":16,\"name\":\"Animation\"},{\"id\":35,\"name\":\"Comedy\"},{\"id\":80,\"name\":\"Crime\"},{\"id\":99,\"name\":\"Documentary\"},{\"id\":18,\"name\":\"Drama\"},{\"id\":10751,\"name\":\"Family\"},{\"id\":14,\"name\":\"Fantasy\"},{\"id\":36,\"name\":\"History\"},{\"id\":27,\"name\":\"Horror\"},{\"id\":10402,\"name\":\"Music\"},{\"id\":9648,\"name\":\"Mystery\"},{\"id\":10749,\"name\":\"Romance\"},{\"id\":878,\"name\":\"Science Fiction\"},{\"id\":10770,\"name\":\"TV Movie\"},{\"id\":53,\"name\":\"Thriller\"},{\"id\":10752,\"name\":\"War\"},{\"id\":37,\"name\":\"Western\"}]}\n"
     ]
    }
   ],
   "source": [
    "# I can get genre ids from API call to tmdb\n",
    "#https://www.themoviedb.org/settings/api\n",
    "# see https://www.sololearn.com/compiler-playground/WgZHrhC3dhbh/?ref=app\n",
    "\n",
    "\n",
    "term = 'genres'\n",
    "\n",
    "def get_keys(path):\n",
    "    with open(path) as f:\n",
    "        return json.load(f)\n",
    "\n",
    "keys = get_keys(\"/home/bringingthesparkle/.secret/tmdb_api.json\")\n",
    "\n",
    "api_key = keys['api_key']\n",
    "\n",
    "#the api url that contains the dictionary of genre types.\n",
    "url = \"https://api.themoviedb.org/3//genre/movie/list\"\n",
    "\n",
    "headers = {\n",
    "    \"accept\": \"application/json\",\n",
    "    \"Authorization\": 'Bearer {}'.format(api_key),\n",
    "}\n",
    "\n",
    "url_params = {\n",
    "                'term': term.replace(\" \", \"+\")\n",
    "}\n",
    "\n",
    "response = requests.get(url, headers=headers, params = url_params)\n",
    "\n",
    "print(response.text)\n",
    "\n",
    "#open/create new file and save API respose to it\n",
    "text_file = open(\"/home/bringingthesparkle/FlatIron/genre_ids.txt\", \"w\")\n",
    "n = text_file.write(response.text)\n",
    "text_file.close()\n",
    "\n",
    "file2 = open(\"/home/bringingthesparkle/FlatIron/genre_ids.txt\", \"r\")\n",
    "file2_string = file2.read()\n",
    "file2.close()\n",
    "print(\"This is the string read from file: \" + file2_string)\n",
    "\n",
    "\n",
    "#I can also do the same with my functions\n",
    "#create_dict(response.text)\n"
   ]
  }
 ],
 "metadata": {
  "kernelspec": {
   "display_name": "Python 3",
   "language": "python",
   "name": "python3"
  },
  "language_info": {
   "codemirror_mode": {
    "name": "ipython",
    "version": 3
   },
   "file_extension": ".py",
   "mimetype": "text/x-python",
   "name": "python",
   "nbconvert_exporter": "python",
   "pygments_lexer": "ipython3",
   "version": "3.10.7"
  },
  "orig_nbformat": 4
 },
 "nbformat": 4,
 "nbformat_minor": 2
}
