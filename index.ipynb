{
 "cells": [
  {
   "cell_type": "code",
   "execution_count": 4,
   "metadata": {},
   "outputs": [],
   "source": [
    "\"\"\" This is Phase 1 project Movie Data Exploration File started on 6 May 2023\"\"\"\n",
    "\n",
    "import pandas as pd\n",
    "import numpy as np\n",
    "import sqlite3\n",
    "import os\n",
    "import zlib\n",
    "import zipfile\n",
    "from zipfile import ZipFile\n",
    "\n",
    "\n",
    "\n",
    "\n"
   ]
  },
  {
   "cell_type": "code",
   "execution_count": 38,
   "metadata": {},
   "outputs": [
    {
     "data": {
      "text/html": [
       "<div>\n",
       "<style scoped>\n",
       "    .dataframe tbody tr th:only-of-type {\n",
       "        vertical-align: middle;\n",
       "    }\n",
       "\n",
       "    .dataframe tbody tr th {\n",
       "        vertical-align: top;\n",
       "    }\n",
       "\n",
       "    .dataframe thead th {\n",
       "        text-align: right;\n",
       "    }\n",
       "</style>\n",
       "<table border=\"1\" class=\"dataframe\">\n",
       "  <thead>\n",
       "    <tr style=\"text-align: right;\">\n",
       "      <th></th>\n",
       "      <th>movie_id</th>\n",
       "      <th>ordering</th>\n",
       "      <th>person_id</th>\n",
       "      <th>category</th>\n",
       "      <th>job</th>\n",
       "      <th>characters</th>\n",
       "    </tr>\n",
       "  </thead>\n",
       "  <tbody>\n",
       "    <tr>\n",
       "      <th>0</th>\n",
       "      <td>tt0111414</td>\n",
       "      <td>1</td>\n",
       "      <td>nm0246005</td>\n",
       "      <td>actor</td>\n",
       "      <td>None</td>\n",
       "      <td>[\"The Man\"]</td>\n",
       "    </tr>\n",
       "    <tr>\n",
       "      <th>1</th>\n",
       "      <td>tt0111414</td>\n",
       "      <td>2</td>\n",
       "      <td>nm0398271</td>\n",
       "      <td>director</td>\n",
       "      <td>None</td>\n",
       "      <td>None</td>\n",
       "    </tr>\n",
       "    <tr>\n",
       "      <th>2</th>\n",
       "      <td>tt0111414</td>\n",
       "      <td>3</td>\n",
       "      <td>nm3739909</td>\n",
       "      <td>producer</td>\n",
       "      <td>producer</td>\n",
       "      <td>None</td>\n",
       "    </tr>\n",
       "    <tr>\n",
       "      <th>3</th>\n",
       "      <td>tt0323808</td>\n",
       "      <td>10</td>\n",
       "      <td>nm0059247</td>\n",
       "      <td>editor</td>\n",
       "      <td>None</td>\n",
       "      <td>None</td>\n",
       "    </tr>\n",
       "    <tr>\n",
       "      <th>4</th>\n",
       "      <td>tt0323808</td>\n",
       "      <td>1</td>\n",
       "      <td>nm3579312</td>\n",
       "      <td>actress</td>\n",
       "      <td>None</td>\n",
       "      <td>[\"Beth Boothby\"]</td>\n",
       "    </tr>\n",
       "  </tbody>\n",
       "</table>\n",
       "</div>"
      ],
      "text/plain": [
       "    movie_id  ordering  person_id  category       job        characters\n",
       "0  tt0111414         1  nm0246005     actor      None       [\"The Man\"]\n",
       "1  tt0111414         2  nm0398271  director      None              None\n",
       "2  tt0111414         3  nm3739909  producer  producer              None\n",
       "3  tt0323808        10  nm0059247    editor      None              None\n",
       "4  tt0323808         1  nm3579312   actress      None  [\"Beth Boothby\"]"
      ]
     },
     "execution_count": 38,
     "metadata": {},
     "output_type": "execute_result"
    }
   ],
   "source": [
    "# Extract SQL db from zip\n",
    "# ZipFile.extractall(file_path , members=None, pwd=None)Home\\MovieData\\\n",
    "\n",
    "\n",
    "#textFile = zipfile.ZipFile(\"/home/hatenotwelcome/MovieData/im.db.zip\", \"r\")\n",
    "#textFile.close()\n",
    "\n",
    "#SQL DB includes 8 tables: principals, known-for, directors, writers, persons, movie_basics, movie_ratings, movie_akas\n",
    "# principals: *movie_id, \n",
    "\n",
    "\n",
    "\n",
    "conn = sqlite3.Connection(\"/home/bringingthesparkle/FlatIron/Movie_Data/im.db\")\n",
    "\n",
    "\n",
    "q = \"\"\"\n",
    "SELECT *\n",
    "FROM principals\n",
    "LIMIT 5\n",
    ";\n",
    "\"\"\"\n",
    "\n",
    "pd.read_sql(q, conn)\n",
    "\n"
   ]
  },
  {
   "cell_type": "code",
   "execution_count": 48,
   "metadata": {},
   "outputs": [
    {
     "name": "stdout",
     "output_type": "stream",
     "text": [
      "title              object\n",
      "studio             object\n",
      "domestic_gross    float64\n",
      "foreign_gross      object\n",
      "year                int64\n",
      "dtype: object\n",
      "                  title      studio  domestic_gross foreign_gross  year\n",
      "3385           The Swan  Synergetic          2400.0           NaN  2018\n",
      "3386  An Actor Prepares       Grav.          1700.0           NaN  2018\n",
      "\n",
      "\n",
      "Missing values by Column\n",
      "title: 0 missing values\n",
      "studio: 5 missing values\n",
      "domestic_gross: 28 missing values\n",
      "foreign_gross: 1350 missing values\n",
      "year: 0 missing values\n",
      "(3387, 5)\n"
     ]
    }
   ],
   "source": [
    "#This is the CSV containing  movie names and their domestic grosses and foreign grosses\n",
    "movie_grosses = pd.read_csv('/home/bringingthesparkle/FlatIron/Movie_Data/bom.movie_gross.csv.gz', sep=',')\n",
    "\n",
    "print(movie_grosses.dtypes)\n",
    "print(movie_grosses.tail(2))\n",
    "print('\\n')\n",
    "\n",
    "print (\"Missing values by Column\")\n",
    "for col in movie_grosses.columns:\n",
    "    missing = movie_grosses[col].isna().sum()\n",
    "    print (str(col) + \": \" + str(missing) + \" missing values\")\n",
    "\n",
    "movie_grosses = movie_grosses.replace(np.nan, 'Unknown')\n",
    "\n",
    "for col in movie_grosses.columns:\n",
    "    assert movie_grosses[col].isna().sum() == 0\n",
    "\n",
    "print(movie_grosses.shape)"
   ]
  },
  {
   "cell_type": "code",
   "execution_count": null,
   "metadata": {},
   "outputs": [],
   "source": [
    "# creating new dataframe to represent only those with domestic gross, removing rows without\n",
    "movie_grosses_domestic = movie_grosses.dropna(subset=['domestic_gross'])\n",
    "assert movie_grosses_domestic == \n",
    "# then split/apply/combine on studio"
   ]
  },
  {
   "cell_type": "code",
   "execution_count": 6,
   "metadata": {},
   "outputs": [
    {
     "name": "stdout",
     "output_type": "stream",
     "text": [
      "Missing values by Column\n",
      "id: 0 missing values\n",
      "synopsis: 62 missing values\n",
      "rating: 3 missing values\n",
      "genre: 8 missing values\n",
      "director: 199 missing values\n",
      "writer: 449 missing values\n",
      "theater_date: 359 missing values\n",
      "dvd_date: 359 missing values\n",
      "currency: 1220 missing values\n",
      "box_office: 1220 missing values\n",
      "runtime: 30 missing values\n",
      "studio: 1066 missing values\n"
     ]
    }
   ],
   "source": [
    "# This is the CSV with movie information with columns: id, synopsis, rating, genre, director, writer, theater_date, dvd_date, currency, box_office, runtime, studio.\n",
    "# ID has type int64, all others are mixed type objects and may need cleaning. \n",
    "movie_info = pd.read_csv('/home/bringingthesparkle/FlatIron/Movie_Data/rt.movie_info.tsv', sep='\\t')\n",
    "#print(movie_info.head(2))\n",
    "\n",
    "#print(movie_info.dtypes)\n",
    "#print(movie_info.shape) # Shape is (1560 by 12)\n",
    "\n",
    "# Assert that 'id' is a unique record and there are no missing values\n",
    "assert movie_info[\"id\"].isna().sum() == 0\n",
    "\n",
    "#Using code from Pandas Data Cleaning Lab to look for NaNs\n",
    "print (\"Missing values by Column\")\n",
    "for col in movie_info.columns:\n",
    "    missing = movie_info[col].isna().sum()\n",
    "    print (str(col) + \": \" + str(missing) + \" missing values\")\n",
    "\n",
    "#.sample(5, random_state=1)\n",
    "#print(len(missing))  # There are 494 with studio listed, the rest have NaNs\n",
    "#missing = movie_info[movie_info[\"id\"].isna()]\n",
    "#print(len(missing)) # There are 1498 with synopsis listed, the other 62 have NaNs.\n",
    "\n"
   ]
  },
  {
   "cell_type": "code",
   "execution_count": 7,
   "metadata": {},
   "outputs": [],
   "source": [
    "# Replacing NaNs and asserting that none remain\n",
    "\n",
    "movie_info = movie_info.replace(np.nan, 'Unknown')\n",
    "\n",
    "for col in movie_info.columns:\n",
    "    assert movie_info[col].isna().sum() == 0\n",
    "\n"
   ]
  },
  {
   "cell_type": "code",
   "execution_count": 8,
   "metadata": {},
   "outputs": [
    {
     "data": {
      "text/plain": [
       "genre\n",
       "Drama                                              151\n",
       "Comedy                                             110\n",
       "Comedy|Drama                                        80\n",
       "Drama|Mystery and Suspense                          67\n",
       "Art House and International|Drama                   62\n",
       "Action and Adventure|Drama                          42\n",
       "Action and Adventure|Drama|Mystery and Suspense     40\n",
       "Drama|Romance                                       35\n",
       "Comedy|Romance                                      32\n",
       "Art House and International|Comedy|Drama            31\n",
       "Name: count, dtype: int64"
      ]
     },
     "execution_count": 8,
     "metadata": {},
     "output_type": "execute_result"
    }
   ],
   "source": [
    "movie_info[\"genre\"].value_counts().nlargest(10)\n",
    "# Clearly the genre column contains more than one category and would be best if separated into dictionaries where you can query on the key"
   ]
  },
  {
   "cell_type": "code",
   "execution_count": 37,
   "metadata": {},
   "outputs": [
    {
     "name": "stdout",
     "output_type": "stream",
     "text": [
      "There are 22 unique genres.\n",
      "['Action and Adventure', 'Classics', 'Drama', 'Science Fiction and Fantasy', 'Musical and Performing Arts', 'Mystery and Suspense', 'Romance', 'Kids and Family', 'Comedy', 'Unknown', 'Documentary', 'Special Interest', 'Art House and International', 'Horror', 'Western', 'Television', 'Sports and Fitness', 'Animation', 'Faith and Spirituality', 'Cult Movies', 'Anime and Manga', 'Gay and Lesbian']\n",
      "                          Genre  Genre_Counts\n",
      "2                         Drama           912\n",
      "8                        Comedy           550\n",
      "0          Action and Adventure           366\n",
      "5          Mystery and Suspense           309\n",
      "12  Art House and International           265\n",
      "6                       Romance           198\n",
      "1                      Classics           193\n",
      "3   Science Fiction and Fantasy           172\n",
      "13                       Horror           134\n",
      "7               Kids and Family            99\n",
      "4   Musical and Performing Arts            98\n",
      "10                  Documentary            69\n",
      "11             Special Interest            61\n",
      "14                      Western            48\n",
      "17                    Animation            47\n",
      "15                   Television            23\n",
      "18       Faith and Spirituality            11\n",
      "16           Sports and Fitness            10\n",
      "9                       Unknown             8\n",
      "19                  Cult Movies             4\n",
      "20              Anime and Manga             2\n",
      "21              Gay and Lesbian             2\n"
     ]
    }
   ],
   "source": [
    "# Massage the data \n",
    "\n",
    "# Create a list of all genres to query on.\n",
    "movie_genres = []\n",
    "movie_genre_dict = {}\n",
    "\n",
    "for index, row in movie_info.iterrows():\n",
    "    massage = row['genre']\n",
    "    data = massage.split(\"|\")\n",
    "    #print (data)\n",
    "    for word in data:\n",
    "        if word in movie_genres:\n",
    "            movie_genre_dict[word] +=1\n",
    "        else:\n",
    "            movie_genres.append(word)\n",
    "            movie_genre_dict[word] = 1\n",
    "\n",
    "    \n",
    "\n",
    "print(\"There are \" + str(len(movie_genres)) + \" unique genres.\")\n",
    "print (movie_genres)\n",
    "\n",
    "df = pd.DataFrame(movie_genre_dict.items(), columns=[\"Genre\", \"Genre_Counts\"])\n",
    "print (df.sort_values(by=['Genre_Counts'], ascending = False))\n"
   ]
  },
  {
   "cell_type": "code",
   "execution_count": null,
   "metadata": {},
   "outputs": [],
   "source": [
    "\n"
   ]
  }
 ],
 "metadata": {
  "kernelspec": {
   "display_name": "Python 3",
   "language": "python",
   "name": "python3"
  },
  "language_info": {
   "codemirror_mode": {
    "name": "ipython",
    "version": 3
   },
   "file_extension": ".py",
   "mimetype": "text/x-python",
   "name": "python",
   "nbconvert_exporter": "python",
   "pygments_lexer": "ipython3",
   "version": "3.10.7"
  },
  "orig_nbformat": 4
 },
 "nbformat": 4,
 "nbformat_minor": 2
}
