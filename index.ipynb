{
 "cells": [
  {
   "cell_type": "code",
   "execution_count": 16,
   "metadata": {},
   "outputs": [],
   "source": [
    "\"\"\" This is Phase 1 project Movie Data Exploration File started on 6 May 2023\"\"\"\n",
    "\"\"\" FIVE DATASETS: \n",
    "1. SQL - MOVIE DATA, im.db\n",
    "2. CSV - movie grosses, bom.movie_gross.csv\n",
    "3. TSV - movie info, rt.movie_info.tsv\n",
    "4. CSV - MOVIE BUDGETS, movie_budgets.csv\n",
    "5. TSV - reviews, rt.reviews.tsv\n",
    "6. CSV - movies, movies.csv\"\"\"\n",
    "\n",
    "import pandas as pd\n",
    "import numpy as np\n",
    "import matplotlib\n",
    "import matplotlib.pyplot as plt\n",
    "import sqlite3\n",
    "import os\n",
    "import zlib\n",
    "import zipfile\n",
    "from zipfile import ZipFile\n",
    "from sklearn.feature_extraction.text import TfidfVectorizer\n",
    "from sklearn.feature_extraction.text import CountVectorizer\n",
    "from pathlib import Path  \n",
    "import glob\n"
   ]
  },
  {
   "cell_type": "code",
   "execution_count": 17,
   "metadata": {},
   "outputs": [],
   "source": [
    "#This is a function to find the number of missing values per column in a dataframe\n",
    "def missing_values(df_name):\n",
    "    \"\"\"This function iterates to find the number of missing values per column\"\"\"\n",
    "    print (\"Missing values by Column\")\n",
    "    for col in df_name.columns:\n",
    "        missing = df_name[col].isna().sum()\n",
    "        print (str(col) + \": \" + str(missing) + \" missing values\")\n",
    "    return"
   ]
  },
  {
   "cell_type": "code",
   "execution_count": 18,
   "metadata": {},
   "outputs": [],
   "source": [
    "# This is a function to create a table of Value Counts for a particular column\n",
    "def column_value_counts(df_name, col_name):\n",
    "    list1 = []\n",
    "    list_dict = {}\n",
    "    for index, row in df_name.iterrows():\n",
    "        value = row[col_name]\n",
    "        if value in list1:\n",
    "            list_dict[col_name] +=1\n",
    "            continue\n",
    "        else:\n",
    "            list1.append(value)\n",
    "            list_dict[col_name] = 1\n",
    "\n",
    "    print(\"There are \" + str(len(list1)) + \" unique.\")\n",
    "    return"
   ]
  },
  {
   "cell_type": "code",
   "execution_count": 19,
   "metadata": {},
   "outputs": [
    {
     "ename": "OperationalError",
     "evalue": "unable to open database file",
     "output_type": "error",
     "traceback": [
      "\u001b[0;31m---------------------------------------------------------------------------\u001b[0m",
      "\u001b[0;31mOperationalError\u001b[0m                          Traceback (most recent call last)",
      "Cell \u001b[0;32mIn[19], line 13\u001b[0m\n\u001b[1;32m      1\u001b[0m \u001b[39m# 1) SQL - MOVIE DATA  \u001b[39;00m\n\u001b[1;32m      2\u001b[0m \n\u001b[1;32m      3\u001b[0m \u001b[39m# Extract SQL db from zip\u001b[39;00m\n\u001b[0;32m   (...)\u001b[0m\n\u001b[1;32m     10\u001b[0m \u001b[39m#SQL DB includes 8 tables: principals, known-for, directors, writers, persons, movie_basics, movie_ratings, movie_akas\u001b[39;00m\n\u001b[1;32m     11\u001b[0m \u001b[39m# principals: *movie_id, \u001b[39;00m\n\u001b[0;32m---> 13\u001b[0m conn \u001b[39m=\u001b[39m sqlite3\u001b[39m.\u001b[39;49mConnection(\u001b[39m\"\u001b[39;49m\u001b[39m/home/bringingthesparkle/FlatIron/Movie_Data/im.db\u001b[39;49m\u001b[39m\"\u001b[39;49m)\n\u001b[1;32m     15\u001b[0m q \u001b[39m=\u001b[39m \u001b[39m\"\"\"\u001b[39m\n\u001b[1;32m     16\u001b[0m \u001b[39mSELECT *\u001b[39m\n\u001b[1;32m     17\u001b[0m \u001b[39mFROM principals\u001b[39m\n\u001b[1;32m     18\u001b[0m \u001b[39mLIMIT 5\u001b[39m\n\u001b[1;32m     19\u001b[0m \u001b[39m;\u001b[39m\n\u001b[1;32m     20\u001b[0m \u001b[39m\"\"\"\u001b[39m\n\u001b[1;32m     22\u001b[0m pd\u001b[39m.\u001b[39mread_sql(q, conn)\n",
      "\u001b[0;31mOperationalError\u001b[0m: unable to open database file"
     ]
    }
   ],
   "source": [
    "# 1) SQL - MOVIE DATA  \n",
    "\n",
    "# Extract SQL db from zip\n",
    "# ZipFile.extractall(file_path , members=None, pwd=None)Home\\MovieData\\\n",
    "\n",
    "\n",
    "#textFile = zipfile.ZipFile(\"/home/hatenotwelcome/MovieData/im.db.zip\", \"r\")\n",
    "#textFile.close()\n",
    "\n",
    "#SQL DB includes 8 tables: principals, known-for, directors, writers, persons, movie_basics, movie_ratings, movie_akas\n",
    "# principals: *movie_id, \n",
    "\n",
    "conn = sqlite3.Connection(\"/home/bringingthesparkle/FlatIron/Movie_Data/im.db\")\n",
    "\n",
    "q = \"\"\"\n",
    "SELECT *\n",
    "FROM principals\n",
    "LIMIT 5\n",
    ";\n",
    "\"\"\"\n",
    "\n",
    "pd.read_sql(q, conn)\n",
    "\n",
    "# Connection closed at bottome of file"
   ]
  },
  {
   "cell_type": "code",
   "execution_count": null,
   "metadata": {},
   "outputs": [
    {
     "name": "stdout",
     "output_type": "stream",
     "text": [
      "title              object\n",
      "studio             object\n",
      "domestic_gross    float64\n",
      "foreign_gross      object\n",
      "year                int64\n",
      "dtype: object\n",
      "                            title      studio  domestic_gross foreign_gross   \n",
      "3382                    The Quake       Magn.          6200.0           NaN  \\\n",
      "3383  Edward II (2018 re-release)          FM          4800.0           NaN   \n",
      "3384                     El Pacto        Sony          2500.0           NaN   \n",
      "3385                     The Swan  Synergetic          2400.0           NaN   \n",
      "3386            An Actor Prepares       Grav.          1700.0           NaN   \n",
      "\n",
      "      year  \n",
      "3382  2018  \n",
      "3383  2018  \n",
      "3384  2018  \n",
      "3385  2018  \n",
      "3386  2018  \n",
      "\n",
      "\n",
      "Missing values by Column\n",
      "title: 0 missing values\n",
      "studio: 5 missing values\n",
      "domestic_gross: 28 missing values\n",
      "foreign_gross: 1350 missing values\n",
      "year: 0 missing values\n"
     ]
    }
   ],
   "source": [
    "# 2) MOVIE GROSSES\n",
    "\n",
    "#This is the CSV containing  movie names and their domestic grosses and foreign grosses\n",
    "# In this table, title has no missing values, but not sure if all unique, adding an index might be necessary\n",
    "movie_grosses = pd.read_csv('/home/bringingthesparkle/FlatIron/Movie_Data/bom.movie_gross.csv.gz', sep=',')\n",
    "\n",
    "print(movie_grosses.dtypes)\n",
    "print(movie_grosses.tail(5))\n",
    "print('\\n')\n",
    "\n",
    "missing_values(movie_grosses)\n"
   ]
  },
  {
   "cell_type": "code",
   "execution_count": null,
   "metadata": {},
   "outputs": [
    {
     "name": "stdout",
     "output_type": "stream",
     "text": [
      "3359\n",
      "There are 256 unique.\n",
      "Empty DataFrame\n",
      "Columns: [Studio, Studio_Count]\n",
      "Index: []\n"
     ]
    }
   ],
   "source": [
    "# creating new dataframe to represent only those with domestic gross, removing rows without\n",
    "movie_grosses_domestic = movie_grosses.dropna(subset=['domestic_gross'])\n",
    "# The initial shape had 3387 rows and 28 less is 3359\n",
    "print (len(movie_grosses_domestic))\n",
    "                                        \n",
    "# then split/apply/combine on studio\n",
    "studios = []\n",
    "studios_dict = {}\n",
    "\n",
    "\n",
    "\n",
    "\n",
    "column_value_counts(movie_grosses_domestic, 'studio')\n",
    "\n",
    "#for index, row in movie_grosses_domestic.iterrows():\n",
    "#    studio = row['studio']\n",
    "#    if studio in studios:\n",
    "#        studios_dict[studio] +=1\n",
    "#        continue\n",
    "#    else:\n",
    "#        studios.append(studio)\n",
    "#        studios_dict[studio] = 1\n",
    "\n",
    "#print(\"There are \" + str(len(studios)) + \" unique studios.\")\n",
    "#print (studios)\n",
    "\n",
    "df = pd.DataFrame(studios_dict.items(), columns=[\"Studio\", \"Studio_Count\"])\n",
    "print (df.sort_values(by=['Studio_Count'], ascending = False))\n",
    "\n"
   ]
  },
  {
   "cell_type": "code",
   "execution_count": null,
   "metadata": {},
   "outputs": [],
   "source": []
  },
  {
   "cell_type": "code",
   "execution_count": null,
   "metadata": {},
   "outputs": [
    {
     "name": "stdout",
     "output_type": "stream",
     "text": [
      "(3387, 5)\n"
     ]
    }
   ],
   "source": [
    "# replace NaNS with Unknowns\n",
    "movie_grosses = movie_grosses.replace(np.nan, 'Unknown')\n",
    "\n",
    "for col in movie_grosses.columns:\n",
    "    assert movie_grosses[col].isna().sum() == 0\n",
    "\n",
    "print(movie_grosses.shape)"
   ]
  },
  {
   "cell_type": "code",
   "execution_count": null,
   "metadata": {},
   "outputs": [
    {
     "name": "stdout",
     "output_type": "stream",
     "text": [
      "   id                                           synopsis rating   \n",
      "0   1  This gritty, fast-paced, and innovative police...      R  \\\n",
      "1   3  New York City, not-too-distant-future: Eric Pa...      R   \n",
      "\n",
      "                                 genre          director   \n",
      "0  Action and Adventure|Classics|Drama  William Friedkin  \\\n",
      "1    Drama|Science Fiction and Fantasy  David Cronenberg   \n",
      "\n",
      "                         writer  theater_date      dvd_date currency   \n",
      "0                Ernest Tidyman   Oct 9, 1971  Sep 25, 2001      NaN  \\\n",
      "1  David Cronenberg|Don DeLillo  Aug 17, 2012   Jan 1, 2013        $   \n",
      "\n",
      "  box_office      runtime             studio  \n",
      "0        NaN  104 minutes                NaN  \n",
      "1    600,000  108 minutes  Entertainment One  \n",
      "Missing values by Column\n",
      "id: 0 missing values\n",
      "synopsis: 62 missing values\n",
      "rating: 3 missing values\n",
      "genre: 8 missing values\n",
      "director: 199 missing values\n",
      "writer: 449 missing values\n",
      "theater_date: 359 missing values\n",
      "dvd_date: 359 missing values\n",
      "currency: 1220 missing values\n",
      "box_office: 1220 missing values\n",
      "runtime: 30 missing values\n",
      "studio: 1066 missing values\n"
     ]
    }
   ],
   "source": [
    "#3) CSV - MOVIE INFO\n",
    "\n",
    "# This is the CSV with movie information with columns: id, synopsis, rating, genre, director, writer, theater_date, dvd_date, currency, box_office, runtime, studio.\n",
    "# ID has type int64, all others are mixed type objects and may need cleaning. \n",
    "movie_info = pd.read_csv('/home/bringingthesparkle/FlatIron/Movie_Data/rt.movie_info.tsv', sep='\\t')\n",
    "print(movie_info.head(2))\n",
    "\n",
    "#print(movie_info.dtypes)\n",
    "#print(movie_info.shape) # Shape is (1560 by 12)\n",
    "\n",
    "# Assert that 'id' is a unique record and there are no missing values\n",
    "assert movie_info[\"id\"].isna().sum() == 0\n",
    "\n",
    "#Using missing values function to count NaNs per column\n",
    "missing_values(movie_info)\n"
   ]
  },
  {
   "cell_type": "code",
   "execution_count": null,
   "metadata": {},
   "outputs": [],
   "source": [
    "# Make a heat map of most frequent words.  Might need to "
   ]
  },
  {
   "cell_type": "code",
   "execution_count": null,
   "metadata": {},
   "outputs": [],
   "source": [
    "# Replacing NaNs and asserting that none remain\n",
    "\n",
    "movie_info = movie_info.replace(np.nan, 'Unknown')\n",
    "\n",
    "for col in movie_info.columns:\n",
    "    assert movie_info[col].isna().sum() == 0"
   ]
  },
  {
   "cell_type": "code",
   "execution_count": null,
   "metadata": {},
   "outputs": [
    {
     "data": {
      "text/plain": [
       "genre\n",
       "Drama                                              151\n",
       "Comedy                                             110\n",
       "Comedy|Drama                                        80\n",
       "Drama|Mystery and Suspense                          67\n",
       "Art House and International|Drama                   62\n",
       "Action and Adventure|Drama                          42\n",
       "Action and Adventure|Drama|Mystery and Suspense     40\n",
       "Drama|Romance                                       35\n",
       "Comedy|Romance                                      32\n",
       "Art House and International|Comedy|Drama            31\n",
       "Name: count, dtype: int64"
      ]
     },
     "execution_count": 766,
     "metadata": {},
     "output_type": "execute_result"
    }
   ],
   "source": [
    "movie_info[\"genre\"].value_counts().nlargest(10)\n",
    "# Clearly the genre column contains more than one category and would be best if separated into dictionaries where you can query on the key"
   ]
  },
  {
   "cell_type": "code",
   "execution_count": null,
   "metadata": {},
   "outputs": [
    {
     "name": "stdout",
     "output_type": "stream",
     "text": [
      "There are 22 unique genres.\n",
      "['Action and Adventure', 'Classics', 'Drama', 'Science Fiction and Fantasy', 'Musical and Performing Arts', 'Mystery and Suspense', 'Romance', 'Kids and Family', 'Comedy', 'Unknown', 'Documentary', 'Special Interest', 'Art House and International', 'Horror', 'Western', 'Television', 'Sports and Fitness', 'Animation', 'Faith and Spirituality', 'Cult Movies', 'Anime and Manga', 'Gay and Lesbian']\n",
      "                          Genre  Genre_Counts\n",
      "2                         Drama           912\n",
      "8                        Comedy           550\n",
      "0          Action and Adventure           366\n",
      "5          Mystery and Suspense           309\n",
      "12  Art House and International           265\n",
      "6                       Romance           198\n",
      "1                      Classics           193\n",
      "3   Science Fiction and Fantasy           172\n",
      "13                       Horror           134\n",
      "7               Kids and Family            99\n",
      "4   Musical and Performing Arts            98\n",
      "10                  Documentary            69\n",
      "11             Special Interest            61\n",
      "14                      Western            48\n",
      "17                    Animation            47\n",
      "15                   Television            23\n",
      "18       Faith and Spirituality            11\n",
      "16           Sports and Fitness            10\n",
      "9                       Unknown             8\n",
      "19                  Cult Movies             4\n",
      "20              Anime and Manga             2\n",
      "21              Gay and Lesbian             2\n"
     ]
    }
   ],
   "source": [
    "# Massage the data \n",
    "\n",
    "# Create a list of all genres to query on.\n",
    "movie_genres = []\n",
    "movie_genre_dict = {}\n",
    "\n",
    "for index, row in movie_info.iterrows():\n",
    "    massage = row['genre']\n",
    "    data = massage.split(\"|\")\n",
    "    #print (data)\n",
    "    for word in data:\n",
    "        if word in movie_genres:\n",
    "            movie_genre_dict[word] +=1\n",
    "        else:\n",
    "            movie_genres.append(word)\n",
    "            movie_genre_dict[word] = 1\n",
    "\n",
    "    \n",
    "\n",
    "print(\"There are \" + str(len(movie_genres)) + \" unique genres.\")\n",
    "print (movie_genres)\n",
    "\n",
    "df = pd.DataFrame(movie_genre_dict.items(), columns=[\"Genre\", \"Genre_Counts\"])\n",
    "print (df.sort_values(by=['Genre_Counts'], ascending = False))\n"
   ]
  },
  {
   "cell_type": "code",
   "execution_count": null,
   "metadata": {},
   "outputs": [
    {
     "name": "stdout",
     "output_type": "stream",
     "text": [
      "id                    int64\n",
      "release_date         object\n",
      "movie                object\n",
      "production_budget    object\n",
      "domestic_gross       object\n",
      "worldwide_gross      object\n",
      "dtype: object\n",
      "      id  release_date                          movie production_budget   \n",
      "5777  78  Dec 31, 2018                         Red 11            $7,000  \\\n",
      "5778  79   Apr 2, 1999                      Following            $6,000   \n",
      "5779  80  Jul 13, 2005  Return to the Land of Wonders            $5,000   \n",
      "5780  81  Sep 29, 2015           A Plague So Pleasant            $1,400   \n",
      "5781  82   Aug 5, 2005              My Date With Drew            $1,100   \n",
      "\n",
      "     domestic_gross worldwide_gross  \n",
      "5777             $0              $0  \n",
      "5778        $48,482        $240,495  \n",
      "5779         $1,338          $1,338  \n",
      "5780             $0              $0  \n",
      "5781       $181,041        $181,041  \n",
      "\n",
      "\n",
      "Missing values by Column\n",
      "id: 0 missing values\n",
      "release_date: 0 missing values\n",
      "movie: 0 missing values\n",
      "production_budget: 0 missing values\n",
      "domestic_gross: 0 missing values\n",
      "worldwide_gross: 0 missing values\n"
     ]
    }
   ],
   "source": [
    "# 4) CSV - MOVIE BUDGETS\n",
    "#This is the file tn.movie_budgets.csv.gz. This is the only file with the budgets and grosses from which you can obtain the ROI.\n",
    "\n",
    "movie_budgets = pd.read_csv('/home/bringingthesparkle/FlatIron/Movie_Data/tn.movie_budgets.csv.gz', sep=',')\n",
    "\n",
    "print(movie_budgets.dtypes)\n",
    "print(movie_budgets.tail(5))\n",
    "print('\\n')\n",
    "\n",
    "missing_values(movie_budgets)  #"
   ]
  },
  {
   "cell_type": "code",
   "execution_count": null,
   "metadata": {},
   "outputs": [
    {
     "data": {
      "text/html": [
       "<div>\n",
       "<style scoped>\n",
       "    .dataframe tbody tr th:only-of-type {\n",
       "        vertical-align: middle;\n",
       "    }\n",
       "\n",
       "    .dataframe tbody tr th {\n",
       "        vertical-align: top;\n",
       "    }\n",
       "\n",
       "    .dataframe thead th {\n",
       "        text-align: right;\n",
       "    }\n",
       "</style>\n",
       "<table border=\"1\" class=\"dataframe\">\n",
       "  <thead>\n",
       "    <tr style=\"text-align: right;\">\n",
       "      <th></th>\n",
       "      <th>id</th>\n",
       "      <th>release_date</th>\n",
       "      <th>movie</th>\n",
       "      <th>production_budget</th>\n",
       "      <th>domestic_gross</th>\n",
       "      <th>worldwide_gross</th>\n",
       "      <th>ROI</th>\n",
       "    </tr>\n",
       "  </thead>\n",
       "  <tbody>\n",
       "    <tr>\n",
       "      <th>0</th>\n",
       "      <td>1</td>\n",
       "      <td>Dec 18, 2009</td>\n",
       "      <td>Avatar</td>\n",
       "      <td>425000000</td>\n",
       "      <td>760507625</td>\n",
       "      <td>2776345279</td>\n",
       "      <td>3111852904</td>\n",
       "    </tr>\n",
       "    <tr>\n",
       "      <th>1</th>\n",
       "      <td>2</td>\n",
       "      <td>May 20, 2011</td>\n",
       "      <td>Pirates of the Caribbean: On Stranger Tides</td>\n",
       "      <td>410600000</td>\n",
       "      <td>241063875</td>\n",
       "      <td>1045663875</td>\n",
       "      <td>876127750</td>\n",
       "    </tr>\n",
       "    <tr>\n",
       "      <th>2</th>\n",
       "      <td>3</td>\n",
       "      <td>Jun 7, 2019</td>\n",
       "      <td>Dark Phoenix</td>\n",
       "      <td>350000000</td>\n",
       "      <td>42762350</td>\n",
       "      <td>149762350</td>\n",
       "      <td>-157475300</td>\n",
       "    </tr>\n",
       "    <tr>\n",
       "      <th>3</th>\n",
       "      <td>4</td>\n",
       "      <td>May 1, 2015</td>\n",
       "      <td>Avengers: Age of Ultron</td>\n",
       "      <td>330600000</td>\n",
       "      <td>459005868</td>\n",
       "      <td>1403013963</td>\n",
       "      <td>1531419831</td>\n",
       "    </tr>\n",
       "    <tr>\n",
       "      <th>4</th>\n",
       "      <td>5</td>\n",
       "      <td>Dec 15, 2017</td>\n",
       "      <td>Star Wars Ep. VIII: The Last Jedi</td>\n",
       "      <td>317000000</td>\n",
       "      <td>620181382</td>\n",
       "      <td>1316721747</td>\n",
       "      <td>1619903129</td>\n",
       "    </tr>\n",
       "  </tbody>\n",
       "</table>\n",
       "</div>"
      ],
      "text/plain": [
       "   id  release_date                                        movie   \n",
       "0   1  Dec 18, 2009                                       Avatar  \\\n",
       "1   2  May 20, 2011  Pirates of the Caribbean: On Stranger Tides   \n",
       "2   3   Jun 7, 2019                                 Dark Phoenix   \n",
       "3   4   May 1, 2015                      Avengers: Age of Ultron   \n",
       "4   5  Dec 15, 2017            Star Wars Ep. VIII: The Last Jedi   \n",
       "\n",
       "   production_budget  domestic_gross  worldwide_gross         ROI  \n",
       "0          425000000       760507625       2776345279  3111852904  \n",
       "1          410600000       241063875       1045663875   876127750  \n",
       "2          350000000        42762350        149762350  -157475300  \n",
       "3          330600000       459005868       1403013963  1531419831  \n",
       "4          317000000       620181382       1316721747  1619903129  "
      ]
     },
     "execution_count": 769,
     "metadata": {},
     "output_type": "execute_result"
    }
   ],
   "source": [
    "# String cleaning to turn budget and gross figures into numeric values, and compute the ROI.\n",
    "movie_budgets[\"production_budget\"] = movie_budgets[\"production_budget\"].str.replace(\"$\",\"\").str.replace(\",\",\"\")\n",
    "movie_budgets[\"production_budget\"] = pd.to_numeric(movie_budgets[\"production_budget\"])\n",
    "movie_budgets[\"domestic_gross\"] = movie_budgets[\"domestic_gross\"].str.replace(\"$\",\"\").str.replace(\",\",\"\")\n",
    "movie_budgets[\"domestic_gross\"] = pd.to_numeric(movie_budgets[\"domestic_gross\"])\n",
    "movie_budgets[\"worldwide_gross\"] = movie_budgets[\"worldwide_gross\"].str.replace(\"$\",\"\").str.replace(\",\",\"\")\n",
    "movie_budgets[\"worldwide_gross\"] = pd.to_numeric(movie_budgets[\"worldwide_gross\"])\n",
    "movie_budgets[\"ROI\"] = ((movie_budgets[\"domestic_gross\"] + movie_budgets[\"worldwide_gross\"]) - movie_budgets[\"production_budget\"])\n",
    "movie_budgets.head()"
   ]
  },
  {
   "cell_type": "code",
   "execution_count": null,
   "metadata": {},
   "outputs": [
    {
     "name": "stdout",
     "output_type": "stream",
     "text": [
      "    id  release_date                                 movie  production_budget   \n",
      "0    1  Dec 18, 2009                                Avatar          425000000  \\\n",
      "5    6  Dec 18, 2015  Star Wars Ep. VII: The Force Awakens          306000000   \n",
      "42  43  Dec 19, 1997                               Titanic          200000000   \n",
      "6    7  Apr 27, 2018                Avengers: Infinity War          300000000   \n",
      "33  34  Jun 12, 2015                        Jurassic World          215000000   \n",
      "\n",
      "    domestic_gross  worldwide_gross         ROI  \n",
      "0        760507625       2776345279  3111852904  \n",
      "5        936662225       2053311220  2683973445  \n",
      "42       659363944       2208208395  2667572339  \n",
      "6        678815482       2048134200  2426949682  \n",
      "33       652270625       1648854864  2086125489  \n"
     ]
    }
   ],
   "source": [
    "#Now that ROI has been calculated, can sort by ROI\n",
    "movie_budgets.sort_values('ROI', ascending = False, inplace=True)\n",
    "print(movie_budgets.head())\n"
   ]
  },
  {
   "cell_type": "code",
   "execution_count": null,
   "metadata": {},
   "outputs": [
    {
     "name": "stdout",
     "output_type": "stream",
     "text": [
      "5782\n",
      "111164787.5\n",
      "-309822.25\n",
      "<class 'pandas.core.frame.DataFrame'>\n",
      "1446\n",
      "1446\n"
     ]
    }
   ],
   "source": [
    "# Calculate percentiles\n",
    "data = np.array(movie_budgets['ROI'])\n",
    "print(len(data))\n",
    "q75, q25 = np.percentile(data, [75 ,25])\n",
    "iqr = q75 - q25\n",
    "print (q75)\n",
    "print(q25)\n",
    "top_25_pct = movie_budgets[movie_budgets['ROI']> q75]\n",
    "print(type(top_25_pct))\n",
    "bottom_25_pct = movie_budgets[movie_budgets['ROI']< q25 ]\n",
    "#iqr_range = movie_budgets.loc[[movie_budgets['ROI']> q25] & [movie_budgets['ROI']<q75]]\n",
    "print(len(top_25_pct))\n",
    "print(len(bottom_25_pct))\n",
    "#above_35 = titanic[titanic[\"Age\"] > 35]"
   ]
  },
  {
   "cell_type": "code",
   "execution_count": null,
   "metadata": {},
   "outputs": [
    {
     "data": {
      "text/plain": [
       "{'whiskers': [<matplotlib.lines.Line2D at 0x7f23814dc970>,\n",
       "  <matplotlib.lines.Line2D at 0x7f23814dcc10>],\n",
       " 'caps': [<matplotlib.lines.Line2D at 0x7f23814dceb0>,\n",
       "  <matplotlib.lines.Line2D at 0x7f23814dd150>],\n",
       " 'boxes': [<matplotlib.lines.Line2D at 0x7f23814dc6d0>],\n",
       " 'medians': [<matplotlib.lines.Line2D at 0x7f23814dd3f0>],\n",
       " 'fliers': [<matplotlib.lines.Line2D at 0x7f23814dd690>],\n",
       " 'means': []}"
      ]
     },
     "execution_count": 773,
     "metadata": {},
     "output_type": "execute_result"
    },
    {
     "data": {
      "image/png": "[encoded data removed]",
      "text/plain": [
       "<Figure size 640x480 with 1 Axes>"
      ]
     },
     "metadata": {},
     "output_type": "display_data"
    }
   ],
   "source": [
    "#boxplot of ROI (later to be updated with the by genre specs)\n",
    "\n",
    "matplotlib.pyplot.boxplot(top_25_pct['ROI']) # This isn't right\n",
    "#matplotlib.pyplot.boxplot(x, notch=None, sym=None, vert=None, whis=None, positions=None, widths=None, patch_artist=None, bootstrap=None, usermedians=None, conf_intervals=None, meanline=None, showmeans=None, showcaps=None, showbox=None, showfliers=None, boxprops=None, labels=None, flierprops=None, medianprops=None, meanprops=None, capprops=None, whiskerprops=None, manage_ticks=True, autorange=False, zorder=None, *, data=None)"
   ]
  },
  {
   "cell_type": "code",
   "execution_count": null,
   "metadata": {},
   "outputs": [
    {
     "name": "stdout",
     "output_type": "stream",
     "text": [
      "<class 'list'>\n",
      "Vocabulary:\n",
      "{'avatar': 122, 'star': 1545, 'wars': 1781, 'ep': 535, 'vii': 1753, 'the': 1622, 'force': 619, 'awakens': 128, 'titanic': 1649, 'avengers': 124, 'infinity': 839, 'war': 1776, 'jurassic': 904, 'world': 1829, 'black': 190, 'panther': 1203, 'furious': 646, 'incredibles': 835, 'viii': 1754, 'last': 948, 'jedi': 875, 'beauty': 159, 'and': 75, 'beast': 156, 'harry': 747, 'potter': 1279, 'deathly': 430, 'hallows': 734, 'part': 1210, 'ii': 823, 'fallen': 571, 'kingdom': 922, 'age': 45, 'of': 1165, 'ultron': 1707, 'frozen': 639, 'lord': 995, 'rings': 1369, 'return': 1353, 'king': 921, 'iron': 857, 'man': 1020, 'minions': 1069, 'phantom': 1239, 'menace': 1053, 'rogue': 1385, 'one': 1173, 'story': 1566, 'captain': 268, 'marvel': 1033, 'park': 1209, 'dark': 413, 'knight': 928, 'lion': 981, 'aquaman': 96, 'shrek': 1471, 'finding': 600, 'dory': 477, 'america': 65, 'civil': 320, 'toy': 1669, 'transformers': 1676, 'moon': 1095, 'jumanji': 899, 'welcome': 1796, 'to': 1652, 'jungle': 902, 'despicable': 438, 'me': 1042, 'pirates': 1253, 'caribbean': 270, 'dead': 426, 'manâ': 1025, 'chest': 295, 'rises': 1373, 'iv': 864, 'new': 1137, 'hope': 795, 'nemo': 1130, 'et': 542, 'extra': 559, 'terrestrial': 1618, 'skyfall': 1491, 'zootopia': 1864, 'fate': 580, 'two': 1701, 'towers': 1667, 'secret': 1437, 'life': 971, 'pets': 1238, 'sorcererâ': 1518, 'stone': 1560, 'alice': 53, 'in': 831, 'wonderland': 1827, 'hunger': 810, 'games': 653, 'catching': 281, 'fire': 601, 'book': 211, 'extinction': 558, 'iii': 824, 'revenge': 1357, 'sith': 1486, 'deadpool': 427, 'fellowship': 587, 'ring': 1367, 'spider': 1529, 'order': 1181, 'phoenix': 1244, 'wonder': 1826, 'woman': 1824, 'hobbit': 781, 'an': 69, 'unexpected': 1716, 'journey': 893, 'bohemian': 207, 'rhapsody': 1360, 'guardians': 720, 'galaxy': 651, 'vol': 1761, 'independence': 836, 'day': 421, 'chamber': 288, 'secrets': 1438, 'homecoming': 789, 'goblet': 681, 'inside': 841, 'out': 1189, 'it': 860, 'half': 732, 'blood': 201, 'prince': 1294, 'twilight': 1698, 'saga': 1405, 'breaking': 229, 'dawn': 420, 'thor': 1635, 'ragnarok': 1319, 'mockingjay': 1080, 'at': 113, 'worldâ': 1831, 'end': 527, 'third': 1630, 'desolation': 437, 'smaug': 1500, 'passion': 1213, 'christ': 309, 'inception': 833, 'ice': 819, 'dinosaurs': 455, 'forrest': 624, 'gump': 724, 'venom': 1744, 'battle': 150, 'five': 605, 'armies': 102, 'batman': 149, 'superman': 1589, 'justice': 906, 'continental': 361, 'drift': 488, 'eclipse': 506, 'sixth': 1488, 'sense': 1444, 'indiana': 837, 'jones': 891, 'crystal': 394, 'skull': 1489, 'prisoner': 1296, 'azkaban': 130, 'suicide': 1579, 'squad': 1541, 'on': 1171, 'stranger': 1569, 'tides': 1642, 'matrix': 1038, 'reloaded': 1341, 'fast': 577, 'da': 400, 'vinci': 1756, 'code': 339, 'gravity': 702, 'fantastic': 575, 'beasts': 157, 'where': 1801, 'find': 599, 'them': 1624, 'attack': 118, 'clones': 330, 'up': 1726, 'vi': 1749, 'american': 66, 'sniper': 1507, 'coco': 338, 'chronicles': 314, 'narnia': 1124, 'witch': 1817, 'wardrobe': 1778, 'forever': 621, 'after': 42, 'sing': 1481, 'mission': 1076, 'impossibleâ': 830, 'fallout': 572, 'maleficent': 1016, 'madagascar': 1006, 'europe': 543, 'most': 1099, 'wanted': 1775, 'monsters': 1091, 'university': 1720, 'winter': 1816, 'soldier': 1512, 'empire': 524, 'strikes': 1574, 'back': 135, 'curse': 398, 'pearl': 1224, 'amazing': 64, 'men': 1052, 'days': 424, 'future': 648, 'past': 1214, 'spectre': 1526, 'martian': 1032, 'lost': 998, 'meltdown': 1050, 'hangover': 736, 'ghost': 669, 'protocol': 1305, 'planet': 1259, 'apes': 91, 'home': 788, 'alone': 60, 'doctor': 466, 'strange': 1568, 'moana': 1079, 'meet': 1046, 'fockers': 613, 'inc': 832, 'steel': 1551, 'nation': 1125, 'tell': 1612, 'no': 1145, 'tales': 1601, 'ted': 1610, '2012': 10, 'night': 1138, 'museum': 1112, 'jaws': 874, 'kung': 936, 'fu': 640, 'panda': 1201, 'logan': 988, 'ant': 87, 'wasp': 1782, 'big': 182, 'hero': 770, 'worlds': 1830, 'mamma': 1019, 'mia': 1058, 'dr': 482, 'seussâ': 1449, 'grinch': 711, 'hancock': 735, 'fifty': 593, 'shades': 1452, 'grey': 710, 'aladdin': 51, 'am': 63, 'legend': 957, 'interstellar': 852, 'ratatouille': 1328, 'casino': 274, 'royale': 1395, 'lego': 959, 'movie': 1103, 'twister': 1700, 'how': 806, 'train': 1673, 'your': 1854, 'dragon': 484, 'exorcist': 554, 'bruce': 245, 'almighty': 59, 'impossible': 829, 'cinderella': 316, 'simpsons': 1479, 'saving': 1417, 'private': 1298, 'ryan': 1402, 'cars': 272, 'mrs': 1105, 'doubtfire': 479, 'escape': 541, 'africa': 41, 'hotel': 802, 'transylvania': 1678, 'summer': 1582, 'vacation': 1732, 'pi': 1246, 'croods': 389, 'crusade': 392, 'terminator': 1617, 'judgment': 894, 'tomorrow': 1656, 'sherlock': 1464, 'holmes': 787, 'armageddon': 101, 'is': 858, 'born': 216, 'crimes': 384, 'grindelwald': 712, 'my': 1117, 'fat': 578, 'greek': 706, 'wedding': 1793, 'brave': 226, '300': 18, 'game': 652, 'shadows': 1454, 'pretty': 1292, 'smurfs': 1505, 'alvin': 62, 'chipmunks': 305, 'squeakquel': 1543, 'dances': 406, 'with': 1818, 'wolves': 1823, 'gone': 692, 'wind': 1815, 'league': 953, 'revenant': 1356, 'wall': 1770, 'cast': 278, 'away': 129, 'puss': 1312, 'boots': 214, 'raiders': 1321, 'ark': 100, 'godzilla': 684, 'ready': 1334, 'player': 1263, 'signs': 1475, 'grease': 703, 'mr': 1104, 'smith': 1503, 'kong': 934, 'boss': 217, 'baby': 134, 'rain': 1322, 'la': 937, 'land': 943, 'rise': 1372, 'kingâ': 925, 'speech': 1527, 'teenage': 1611, 'mutant': 1116, 'ninja': 1143, 'turtles': 1695, 'hidden': 771, 'ralph': 1323, 'breaks': 230, 'internet': 850, 'ocean': 1160, 'eleven': 514, 'island': 859, 'lucy': 1002, 'gladiator': 676, 'bourne': 222, 'ultimatum': 1706, 'rio': 1370, 'dunkirk': 497, 'mummy': 1108, 'returns': 1354, 'beverly': 175, 'hills': 775, 'cop': 365, 'charlie': 292, 'chocolate': 308, 'factory': 565, 'clash': 321, 'titans': 1650, 'quantum': 1313, 'solace': 1511, 'tangled': 1604, 'blind': 198, 'side': 1473, 'les': 961, 'miserables': 1073, 'oz': 1196, 'great': 704, 'powerful': 1282, 'there': 1626, 'something': 1515, 'about': 27, 'mary': 1034, 'top': 1660, 'gun': 725, 'wreck': 1833, 'apocalypse': 92, 'django': 464, 'unchained': 1710, 'york': 1851, 'slumdog': 1497, 'millionaire': 1066, 'sex': 1451, 'city': 319, 'bodyguard': 206, 'ghostbusters': 670, 'trek': 1683, 'into': 854, 'darkness': 416, 'robin': 1377, 'hood': 791, 'thieves': 1628, 'quiet': 1316, 'place': 1256, 'san': 1411, 'andreas': 76, 'happy': 742, 'feet': 586, 'seuss': 1448, 'lorax': 994, 'mei': 1049, 'ren': 1343, 'yu': 1855, 'meg': 1047, 'harbor': 744, 'crocodile': 387, 'dundee': 496, 'fugitive': 641, 'what': 1799, 'women': 1825, 'want': 1774, 'bumblebee': 250, 'close': 331, 'encounters': 526, 'kind': 919, 'hitch': 778, 'karate': 910, 'kid': 916, 'intouchables': 855, 'temple': 1613, 'doom': 476, 'for': 617, 'stand': 1544, 'rush': 1401, 'hour': 803, 'austin': 120, 'powers': 1283, 'spy': 1540, 'who': 1804, 'shagged': 1456, 'stole': 1558, 'christmas': 310, 'bug': 249, 'greatest': 705, 'showman': 1470, 'verse': 1746, '3d': 19, 'girl': 672, 'tarzan': 1606, 'angels': 79, 'demons': 434, '22': 13, 'jump': 900, 'street': 1572, 'taken': 1598, 'catch': 280, 'if': 821, 'you': 1852, 'can': 266, 'troy': 1690, 'fatal': 579, 'attraction': 119, 'jason': 873, 'shark': 1461, 'tale': 1599, 'mask': 1035, 'crashers': 379, 'die': 452, 'another': 86, 'chicago': 297, 'goldmember': 691, 'apollo': 94, '13': 4, 'flintstones': 610, 'pitch': 1254, 'perfect': 1231, 'parents': 1207, 'sound': 1520, 'music': 1113, 'darker': 414, 'liar': 966, 'kingsman': 924, 'service': 1447, 'proposal': 1303, 'notting': 1153, 'hill': 774, 'framed': 627, 'roger': 1384, 'rabbit': 1317, 'conjuring': 356, 'wolverine': 1822, 'pocahontas': 1264, 'smithsonian': 1504, 'lethal': 963, 'weapon': 1790, 'hannibal': 738, 'samurai': 1410, 'get': 667, 'bridesmaids': 233, 'swan': 1593, 'fault': 581, 'our': 1188, 'stars': 1547, 'over': 1193, 'hedge': 762, 'shazam': 1462, 'freed': 632, 'maze': 1040, 'runner': 1399, 'revolutions': 1359, 'devil': 443, 'wears': 1791, 'prada': 1284, 'scary': 1420, 'pursuit': 1311, 'happyness': 743, 'begins': 166, 'machines': 1004, 'as': 109, 'good': 693, 'gets': 668, 'peter': 1236, 'split': 1534, 'true': 1691, 'lies': 970, 'beautiful': 158, 'mind': 1067, 'deep': 433, 'impact': 828, 'us': 1731, 'rampage': 1325, 'first': 603, 'avenger': 123, 'live': 985, 'free': 631, 'or': 1180, 'hard': 745, 'rambo': 1324, 'wolf': 1821, 'vs': 1765, 'aliens': 55, 'golden': 688, 'circle': 317, 'origins': 1184, 'national': 1126, 'treasure': 1682, 'halloween': 733, 'prometheus': 1301, 'air': 47, 'neighbors': 1129, 'goldeneye': 689, 'chipwrecked': 306, 'supremacy': 1590, 'pie': 1248, 'pokã': 1268, 'mon': 1084, 'detective': 441, 'pikachu': 1249, 'four': 625, 'spongebob': 1537, 'sponge': 1536, 'water': 1784, 'se7en': 1430, 'gran': 699, 'torino': 1661, 'godfather': 682, 'rock': 1381, 'schindlerâ': 1421, 'list': 983, 'murder': 1111, 'orient': 1182, 'express': 557, 'annabelle': 84, 'creation': 381, 'runaway': 1398, 'bride': 232, 'storm': 1565, 'lincoln': 978, 'minority': 1070, 'report': 1344, 'grit': 713, 'robot': 1379, 'blair': 194, 'project': 1300, 'angry': 81, 'birds': 189, 'firm': 602, 'silence': 1476, 'lambs': 941, 'snow': 1508, 'white': 1803, 'huntsman': 815, 'now': 1154, 'see': 1439, 'green': 707, 'poppins': 1275, 'enchanted': 525, 'crazy': 380, 'rich': 1361, 'asians': 110, 'we': 1789, 're': 1330, 'millers': 1064, 'best': 174, 'friend': 635, 'twelve': 1696, 'jerry': 878, 'maguire': 1012, 'figures': 596, 'vengeance': 1743, 'ransom': 1327, 'speed': 1528, 'mad': 1005, 'max': 1039, 'fury': 647, 'road': 1376, 'enfield': 530, 'poltergeist': 1272, 'trolls': 1687, 'tron': 1688, 'legacy': 955, 'borat': 215, 'bambi': 142, 'horton': 800, 'hears': 759, 'seven': 1450, 'dwarfs': 499, 'hustle': 817, 'juno': 903, 'inglourious': 840, 'basterds': 148, 'voyage': 1764, 'treader': 1681, 'mile': 1062, 'oceanâ': 1161, 'genisys': 662, 'dolittle': 470, 'dinosaur': 454, 'elf': 515, 'daddy': 401, 'wild': 1810, 'hogs': 782, 'collision': 343, 'course': 373, 'grown': 717, 'ups': 1729, 'little': 984, 'joe': 888, 'retaliation': 1350, 'john': 889, 'wick': 1808, 'chapter': 290, 'parabellum': 1204, 'help': 765, 'dumb': 493, 'dumber': 494, 'never': 1135, 'dies': 453, 'will': 1811, 'hunting': 814, 'beneath': 170, 'high': 773, 'school': 1423, 'musical': 1114, 'senior': 1443, 'year': 1844, 'shakespeare': 1457, 'love': 999, 'not': 1149, 'enough': 533, 'hook': 793, 'nutty': 1157, 'professor': 1299, 'silver': 1477, 'linings': 980, 'playbook': 1262, 'shutter': 1472, 'heat': 760, 'scooby': 1424, 'doo': 475, 'few': 589, 'thirteen': 1631, 'daddyâ': 402, 'mysterious': 1119, 'divergent': 462, 'class': 322, 'rocky': 1383, 'knocked': 930, 'tomb': 1655, 'megamind': 1048, 'tootsie': 1659, 'xxx': 1839, 'glass': 677, 'straight': 1567, 'outta': 1192, 'compton': 349, 'super': 1587, 'fahrenheit': 566, '11': 2, 'mulan': 1106, 'caspian': 276, 'stuart': 1577, 'erin': 540, 'brockovich': 240, 'emperor': 523, 'departed': 435, 'solo': 1514, 'scorch': 1425, 'trials': 1684, 'marley': 1029, 'truman': 1692, 'show': 1469, 'waterboy': 1785, 'polar': 1269, 'bridget': 236, 'diary': 448, 'casper': 275, 'crouching': 390, 'tiger': 1643, 'hunchback': 808, 'notre': 1152, 'dame': 404, 'noah': 1146, 'pacific': 1197, 'rim': 1366, 'resurgence': 1348, 'adventures': 38, 'tintin': 1647, 'poets': 1265, 'society': 1510, 'alita': 56, 'angel': 77, 'argo': 98, 'penguins': 1227, 'cloudy': 333, 'chance': 289, 'meatballs': 1045, 'total': 1662, 'recall': 1338, 'series': 1446, 'insurgent': 846, 'sting': 1555, 'twins': 1699, 'pulp': 1307, 'fiction': 590, 'warcraft': 1777, 'santa': 1413, 'clause': 323, 'lilo': 975, 'stitch': 1556, 'gotta': 697, 'give': 674, 'lara': 946, 'croft': 388, 'raider': 1320, 'beyond': 177, 'robots': 1380, 'paul': 1219, 'blart': 195, 'mall': 1017, 'paranormal': 1205, 'activity': 33, 'gatsby': 658, 'xander': 1836, 'cage': 262, 'imitation': 826, 'full': 642, 'monty': 1093, 'sully': 1580, 'zhuo': 1859, 'yao': 1841, 'ji': 881, 'million': 1065, 'dollar': 471, 'driver': 489, 've': 1740, 'got': 695, 'mail': 1014, 'airbender': 48, 'surfer': 1591, 'resident': 1347, 'evil': 548, 'final': 598, 'village': 1755, 'center': 284, 'earth': 502, '21': 12, 'afterlife': 43, 'gangster': 656, 'district': 460, 'dangal': 407, 'curious': 397, 'case': 273, 'benjamin': 172, 'button': 259, 'expendables': 556, 'bad': 136, 'teacher': 1608, 'chicken': 298, 'horrible': 797, 'bosses': 218, 'central': 285, 'intelligence': 848, 'edge': 507, 'vow': 1763, 'run': 1397, 'click': 326, 'passengers': 1212, 'bolt': 208, 'hunt': 811, 'red': 1340, 'october': 1162, 'weddings': 1794, 'funeral': 645, 'salvation': 1409, 'ace': 30, 'ventura': 1745, 'when': 1800, 'nature': 1127, 'calls': 264, 'dumbo': 495, 'cheaper': 294, 'by': 260, 'dozen': 481, 'grudge': 718, 'others': 1186, 'patch': 1215, 'adams': 35, 'gremlins': 708, 'flashdance': 606, 'woods': 1828, 'wayne': 1788, 'traffic': 1672, 'social': 1509, 'network': 1133, 'boys': 224, 'peanuts': 1223, 'lampoon': 942, 'animal': 82, 'house': 805, 'paddington': 1199, 'hercules': 769, 'babe': 132, 'creed': 382, 'salt': 1408, 'interview': 853, 'vampire': 1736, 'disney': 458, 'planes': 1258, 'walk': 1768, 'line': 979, 'cobra': 337, 'bringing': 239, 'down': 480, 'magic': 1010, 'mike': 1061, 'enemy': 529, 'state': 1549, 'smart': 1499, 'valentine': 1733, 'identity': 820, 'english': 532, 'patient': 1216, 'kids': 917, 'miss': 1075, 'congeniality': 354, 'anger': 80, 'management': 1021, 'addams': 36, 'family': 573, 'thief': 1627, 'moms': 1083, 'cliffhanger': 328, 'superbad': 1588, 'alien': 54, 'yes': 1847, 'face': 564, 'off': 1166, 'peregrineâ': 1230, 'peculiar': 1225, 'children': 303, 'phillips': 1242, 'break': 228, 'sweet': 1594, 'alabama': 50, 'princess': 1295, 'frog': 637, 'epic': 536, 'platoon': 1261, 'unbreakable': 1708, 'jackass': 867, 'longest': 991, 'yard': 1842, 'clear': 325, 'present': 1289, 'danger': 408, 'kindergarten': 920, 'vita': 1760, 'bella': 167, 'sen': 1442, 'chihiro': 300, 'kamikakushi': 909, 'bee': 163, 'michael': 1059, 'jackson': 868, 'this': 1633, 'non': 1148, 'stop': 1562, 'happens': 741, 'vegas': 1741, 'lee': 954, 'daniels': 409, 'butler': 256, 'disneyâ': 459, 'carol': 271, 'ferdinand': 588, 'actually': 34, 'ride': 1363, 'along': 61, 'death': 429, 'cure': 396, 'incredible': 834, 'hulk': 807, 'zorro': 1865, 'scream': 1428, '40': 20, 'old': 1167, 'virgin': 1757, 'space': 1523, 'jam': 870, 'egypt': 509, 'elysium': 519, '10': 1, '000': 0, 'bram': 225, 'stoker': 1557, 'dracula': 483, 'momma': 1082, 'collateral': 341, 'gnomeo': 679, 'juliet': 897, 'oblivion': 1158, 'wives': 1820, 'club': 335, 'arrival': 104, 'ugly': 1704, 'truth': 1693, 'pacifier': 1198, 'double': 478, 'jeopardy': 877, 'graffiti': 698, 'reason': 1336, 'analyze': 71, 'emoji': 521, 'philadelphia': 1241, 'baahubali': 131, 'conclusion': 352, 'itâ': 863, 'complicated': 348, 'dodgeball': 467, 'underdog': 1712, 'tattoo': 1607, 'bedtime': 162, 'stories': 1563, 'van': 1737, 'helsing': 766, 'safe': 1404, 'moonraker': 1096, 'anchorman': 74, 'continues': 362, 'flightplan': 609, 'presents': 1290, 'grandpa': 701, 'deeds': 432, 'skyscraper': 1492, 'due': 491, 'date': 417, 'hairspray': 731, 'tourist': 1664, 'brokeback': 241, 'mountain': 1102, 'unforgiven': 1718, 'chip': 304, 'con': 350, 'freaky': 629, 'friday': 633, 'before': 165, 'sum': 1581, 'all': 57, 'fears': 585, 'pelican': 1226, 'brief': 237, 'panic': 1202, 'room': 1391, 'diaries': 447, 'reunion': 1355, 'beanâ': 154, 'holiday': 784, 'dogâ': 469, 'purpose': 1310, '50': 23, 'dates': 418, 'towering': 1666, 'inferno': 838, 'insidious': 842, 'unleashed': 1722, 'disclosure': 457, 'shape': 1460, 'equalizer': 537, 'real': 1335, 'other': 1185, 'wrath': 1832, 'donâ': 474, 'breathe': 231, 'sleepy': 1496, 'hollow': 786, 'descendants': 436, 'talladega': 1602, 'nights': 1140, 'ballad': 141, 'ricky': 1362, 'bobby': 204, 'just': 905, 'go': 680, 'jack': 865, 'reacher': 1331, 'stood': 1561, 'still': 1554, 'blazing': 196, 'saddles': 1403, 'peabody': 1221, 'sherman': 1465, 'jfk': 880, 'eraser': 539, 'he': 757, 'that': 1621, 'saw': 1418, 'turbo': 1694, 'lone': 990, 'survivor': 1592, 'morning': 1097, 'vietnam': 1751, 'lose': 997, 'guy': 728, 'rango': 1326, 'cats': 282, 'dogs': 468, 'hop': 794, 'garfield': 657, 'entrapment': 534, 'vanilla': 1738, 'sky': 1490, 'bienvenue': 181, 'chez': 296, 'ch': 286, 'tis': 1648, 'intern': 849, 'pixels': 1255, 'fifth': 592, 'element': 512, 'weeks': 1795, 'notice': 1151, 'compass': 347, 'lemony': 960, 'snicket': 1506, 'unfortunate': 1719, 'events': 545, '60': 25, 'seconds': 1436, 'chihuahua': 301, 'girls': 673, 'trip': 1686, 'octopussy': 1163, 'eat': 504, 'pray': 1285, 'persia': 1234, 'sands': 1412, 'time': 1645, 'los': 996, 'angeles': 78, 'cape': 267, 'fear': 584, 'cloverfield': 334, 'key': 913, 'rider': 1364, 'bridges': 235, 'madison': 1009, 'county': 370, 'yogi': 1850, 'bear': 155, 'george': 665, 'phenomenon': 1240, 'mule': 1107, 'eragon': 538, 'artificial': 107, 'ai': 46, 'wallace': 1771, 'gromit': 714, 'were': 1797, 'flight': 608, 'bucket': 247, 'constantine': 358, 'italian': 861, 'job': 887, 'remember': 1342, 'eyes': 562, 'only': 1175, 'christopher': 312, 'couples': 371, 'retreat': 1351, 'kill': 918, 'terminal': 1616, 'hansel': 739, 'gretel': 709, 'hunters': 813, 'pronounce': 1302, 'chuck': 315, 'larry': 947, 'jumper': 901, 'legally': 956, 'blonde': 200, 'immortals': 827, 'sausage': 1415, 'party': 1211, 'dick': 449, 'tracy': 1670, 'pokemon': 1267, 'came': 265, 'polly': 1271, 'hannah': 737, 'montana': 1092, 'patriot': 1217, 'hauru': 753, 'ugoku': 1705, 'shiro': 1466, 'hitmanâ': 780, 'loved': 1000, 'retribution': 1352, 'hornet': 796, '12': 3, 'years': 1845, 'slave': 1493, 'mystic': 1120, 'river': 1375, 'smallfoot': 1498, 'percy': 1228, 'olympians': 1168, 'lightning': 972, 'knowing': 932, 'trainwreck': 1675, 'covenant': 374, 'plan': 1257, 'porky': 1276, 'jet': 879, 'li': 965, 'unbroken': 1709, 'destination': 440, 'flew': 607, 'cuckoo': 395, 'nest': 1131, 'rugrats': 1396, 'country': 369, 'stargate': 1546, 'zhivago': 1858, 'don': 473, 'mess': 1054, 'zohan': 1860, 'braveheart': 227, 'fighter': 595, 'tropic': 1689, 'thunder': 1639, 'post': 1278, 'willy': 1812, 'lights': 973, 'cool': 364, 'runnings': 1400, 'christmases': 311, 'care': 269, 'sweethearts': 1595, 'throttle': 1637, 'outbreak': 1190, 'limitless': 977, 'town': 1668, 'perdition': 1229, 'marche': 1026, 'de': 425, 'empereur': 522, 'files': 597, 'fight': 594, '27': 14, 'dresses': 487, 'vertical': 1747, 'limit': 976, 'looper': 993, 'public': 1306, 'enemies': 528, 'untold': 1724, 'driving': 490, 'daisy': 403, 'klumps': 927, 'daredevil': 412, 'mama': 1018, 'muppets': 1110, 'blades': 193, 'glory': 678, 'poppers': 1274, 'maid': 1013, 'manhattan': 1023, 'three': 1636, 'billboards': 185, 'outside': 1191, 'ebbing': 505, 'missouri': 1077, 'balboa': 139, 'living': 986, 'daylights': 423, 'letâ': 964, 'be': 153, 'cops': 366, 'horse': 799, 'whisperer': 1802, 'eagle': 501, 'eye': 561, 'olympus': 1169, 'has': 748, 'exorcism': 553, 'emily': 520, 'rose': 1392, 'aviator': 125, 'stepmom': 1553, 'save': 1416, 'dance': 405, 'their': 1623, 'own': 1195, 'everest': 546, 'accountant': 29, 'mean': 1043, 'chocolat': 307, 'butch': 255, 'cassidy': 277, 'sundance': 1584, 'starsky': 1548, 'hutch': 818, 'london': 989, 'squarepants': 1542, 'second': 1435, 'le': 952, 'fabuleux': 563, 'destin': 439, 'amã': 68, 'lie': 969, 'poulain': 1280, 'dear': 428, 'valkyrie': 1734, 'legends': 958, 'fall': 570, 'monkeys': 1088, 'scorpion': 1427, 'hacksaw': 730, 'ridge': 1365, 'contact': 359, 'uprising': 1728, 'thunderball': 1640, 'crimson': 385, 'tide': 1641, 'bridge': 234, 'terabithia': 1615, 'billy': 186, 'jonesâ': 892, 'strings': 1575, 'attached': 117, 'spies': 1531, 'monster': 1090, 'law': 951, 'exodus': 552, 'gods': 683, 'kings': 923, 'payback': 1220, 'purge': 1308, 'think': 1629, 'like': 974, 'sin': 1480, 'general': 660, 'daughter': 419, 'grand': 700, 'budapest': 248, 'open': 1177, 'season': 1434, 'bill': 184, 'volume': 1762, 'burn': 253, 'reading': 1333, 'haunting': 752, 'flubber': 612, 'let': 962, 'guys': 729, 'upside': 1730, 'midnight': 1060, 'paris': 1208, 'step': 1552, 'streets': 1573, 'myself': 1118, 'irene': 856, 'election': 511, 'gake': 650, 'ue': 1703, 'ponyo': 1273, 'motion': 1100, 'picture': 1247, 'storks': 1564, 'dreamgirls': 485, 'through': 1638, 'looking': 992, 'moulin': 1101, 'rouge': 1393, 'antz': 88, 'vantage': 1739, 'point': 1266, 'congo': 355, 'seabiscuit': 1432, 'avp': 126, 'predator': 1286, 'heaven': 761, 'wait': 1767, 'pounds': 1281, 'blade': 192, 'robocop': 1378, 'stupid': 1578, 'goosebumps': 694, 'cold': 340, 'julie': 896, 'julia': 895, '1408': 6, 'know': 931, 'did': 451, 'atlantis': 114, 'texas': 1620, 'chainsaw': 287, 'massacre': 1036, 'say': 1419, 'again': 44, 'sea': 1431, 'romeo': 1387, 'disturbia': 461, 'blue': 203, 'zero': 1856, 'thirty': 1632, 'waterworld': 1786, 'darkest': 415, 'chronicle': 313, 'short': 1467, 'yearâ': 1846, 'eve': 544, 'lane': 944, 'xxl': 1838, 'sleepers': 1494, 'dictator': 450, 'anarchy': 72, 'baywatch': 152, 'eli': 516, 'fun': 644, 'jane': 871, 'hawk': 755, 'parental': 1206, 'guidance': 722, 'goldfinger': 690, 'view': 1752, 'mortal': 1098, 'kombat': 933, 'royal': 1394, 'engagement': 531, 'freddy': 630, 'color': 344, 'purple': 1309, 'mexican': 1056, 'master': 1037, 'commander': 345, 'far': 576, 'need': 1128, 'zookeeper': 1863, 'exotic': 555, 'marigold': 1027, 'pan': 1200, 'assassinâ': 112, 'queen': 1314, 'talented': 1600, 'ripley': 1371, 'bone': 209, 'collector': 342, 'young': 1853, 'frankenstein': 628, 'met': 1055, 'sallyâ': 1407, 'trade': 1671, 'extraordinary': 560, 'gentlemen': 664, 'revolution': 1358, 'dreams': 486, 'pet': 1235, 'friends': 636, 'benefits': 171, 'happening': 740, 'failure': 567, 'launch': 950, 'notebook': 1150, 'monuments': 1094, 'springs': 1539, '2049': 11, 'pinocchio': 1252, 'magnificent': 1011, 'arthur': 106, 'rescue': 1346, 'dã': 500, 'jã': 908, 'vu': 1766, 'client': 327, 'fantasia': 574, 'sideways': 1474, 'brothers': 244, 'gangs': 655, 'pineapple': 1250, '17': 7, 'madea': 1008, 'goes': 686, 'jail': 869, 'airplane': 49, 'banks': 144, 'source': 1521, 'sisters': 1485, 'gulliver': 723, 'travels': 1680, 'khan': 914, 'underpants': 1713, 'imagine': 825, 'eight': 510, 'below': 168, '42': 21, 'sensibility': 1445, 'pink': 1251, 'gothika': 696, 'tammy': 1603, 'shallows': 1459, 'are': 97, 'yet': 1848, 'annie': 85, 'stripes': 1576, 'chicks': 299, 'ray': 1329, 'herbie': 768, 'fully': 643, 'loaded': 987, 'west': 1798, 'unknown': 1721, 'six': 1487, 'boomerang': 212, 'justin': 907, 'bieber': 180, 'jimmy': 884, 'neutron': 1134, 'boy': 223, 'genius': 663, 'visit': 1759, 'battleship': 151, 'groove': 715, 'gandhi': 654, 'police': 1270, 'academy': 28, 'bounty': 221, 'hunter': 812, 'hollandâ': 785, 'opus': 1179, 'generations': 661, 'translation': 1677, 'anaconda': 70, 'ten': 1614, 'commandments': 346, 'advocate': 39, 'focus': 614, 'artist': 108, 'shorty': 1468, 'nut': 1156, 'lyrics': 1003, 'brã¼no': 246, 'watchmen': 1783, 'amityville': 67, 'horror': 798, 'confidential': 353, 'walter': 1773, 'mitty': 1078, 'clock': 329, 'its': 862, 'walls': 1772, 'geostorm': 666, 'cowboys': 375, 'jackal': 866, 'zombieland': 1861, 'broken': 242, 'arrow': 105, 'hellboy': 764, 'army': 103, 'mirror': 1072, 'contagion': 360, 'underworld': 1714, 'awakening': 127, 'diamonds': 446, 'sunshine': 1586, 'becomes': 161, 'her': 767, 'unstoppable': 1723, 'dupree': 498, 'fiddler': 591, 'roof': 1389, 'footloose': 616, 'abiding': 26, 'citizen': 318, 'warm': 1780, 'bodies': 205, 'fried': 634, 'tomatoes': 1654, 'number': 1155, 'nanny': 1123, 'mcphee': 1041, 'naked': 1122, '2â½': 16, 'smell': 1501, 'atonement': 116, 'vendetta': 1742, 'opera': 1178, 'hide': 772, 'seek': 1440, 'streak': 1571, 'crash': 378, 'ouija': 1187, 'peteâ': 1237, 'omen': 1170, 'licence': 968, 'bring': 238, 'ron': 1388, 'burgundy': 252, 'resurrection': 1349, '2000': 8, 'kari': 911, 'gurashi': 727, 'arietti': 99, 'child': 302, 'nacho': 1121, 'libre': 967, 'guns': 726, 'evita': 549, 'means': 1044, 'babel': 133, 'johnny': 890, 'nightmare': 1139, 'elm': 518, 'jill': 883, 'thomas': 1634, 'crown': 391, 'affair': 40, 'search': 1433, 'spock': 1535, 'interpreter': 851, 'muppet': 1109, 'anastasia': 73, 'twice': 1697, 'undiscovered': 1715, 'ball': 140, 'broly': 243, 'charlotte': 293, 'web': 1792, 'team': 1609, 'bought': 220, 'zoo': 1862, 'theory': 1625, 'everything': 547, 'spirit': 1532, 'hoodwinked': 792, 'tower': 1665, 'heist': 763, 'sematary': 1441, '571': 24, 'schmidt': 1422, 'neverland': 1136, 'haunted': 751, 'mansion': 1024, 'spiderwick': 1530, 'coraline': 367, 'barbershop': 145, 'saint': 1406, '13th': 5, 'butterfly': 258, 'effect': 508, 'act': 32, 'valor': 1735, 'deuce': 442, 'bigalow': 183, 'male': 1015, 'gigolo': 671, 'bloody': 202, 'barnyard': 147, 'original': 1183, 'animals': 83, 'alexander': 52, 'terrible': 1619, 'very': 1748, 'foreigner': 620, 'mona': 1085, 'lisa': 982, 'smile': 1502, 'hateful': 750, 'se': 1429, 'aceptan': 31, 'devoluciones': 444, 'contraband': 363, 'why': 1807, 'him': 776, 'predators': 1287, 'adjustment': 37, 'bureau': 251, 'net': 1132, 'instant': 845, 'conspiracy': 357, 'married': 1030, 'species': 1525, 'forgetting': 622, 'sarah': 1414, 'marshall': 1031, 'noise': 1147, 'corpse': 368, 'elephants': 513, 'haven': 754, 'dukes': 492, 'hazzard': 756, 'pride': 1293, 'prejudice': 1288, 'made': 1007, 'moneyball': 1087, 'wargames': 1779, 'swordfish': 1596, 'lantern': 945, 'guess': 721, 'shall': 1458, 'training': 1674, 'song': 1516, 'tokyo': 1653, 'insomnia': 843, 'xi': 1837, 'zhi': 1857, 'sun': 1583, 'wu': 1835, 'bai': 137, 'gu': 719, 'jing': 885, 'australia': 121, 'rookie': 1390, 'forgotten': 623, 'role': 1386, 'models': 1081, 'memoirs': 1051, 'geisha': 659, 'phone': 1245, 'booth': 213, 'blockers': 199, 'dare': 411, 'sinister': 1482, 'cradle': 377, 'beetlejuice': 164, 'mononoke': 1089, 'hime': 777, 'ooze': 1176, 'lucky': 1001, 'apocalypto': 93, 'lady': 939, 'dolphin': 472, 'ben': 169, 'hur': 816, 'simple': 1478, 'favor': 582, 'wrinkle': 1834, 'evolution': 550, 'requiem': 1345, 'jeepers': 876, 'creepers': 383, 'jigsaw': 882, 'jingle': 886, 'way': 1787, 'dante': 410, 'peak': 1222, 'tomorrowland': 1657, 'coyote': 376, 'miley': 1063, 'cyrus': 399, 'both': 219, 'concert': 351, 'tour': 1663, 'blended': 197, 'dirty': 456, 'sorority': 1519, 'rising': 1374, 'diamond': 445, 'prisoners': 1297, 'allegiant': 58, 'reborn': 1337, 'birdman': 188, 'virtue': 1758, 'ignorance': 822, 'untouchables': 1725, 'beowulf': 173, 'blackkklansman': 191, 'groundhog': 716, 'lake': 940, 'planner': 1260, 'fair': 568, 'traveler': 1679, 'wife': 1809, 'harlem': 746, 'strangers': 1570, 'easy': 503, 'hundred': 809, 'foot': 615, 'tyler': 1702, 'perryâ': 1233, 'boo': 210, 'elliot': 517, 'forbidden': 618, 'fourth': 626, 'july': 898, 'wimpy': 1814, 'cat': 279, 'hat': 749, 'rocketman': 1382, 'hostel': 801, 'once': 1172, 'upon': 1727, 'mexico': 1057, 'philomena': 1243, 'tooth': 1658, 'fairy': 569, 'tape': 1605, 'shaft': 1455, 'yip': 1849, 'sparrow': 1524, 'executive': 551, 'decision': 431, 'overboard': 1194, 'godâ': 685, 'stomp': 1559, 'soldiers': 1513, 'miracles': 1071, 'from': 638, 'race': 1318, 'obsessed': 1159, 'must': 1115, 'shadow': 1453, 'recruit': 1339, 'unfaithful': 1717, 'tigger': 1644, 'ringer': 1368, '2001': 9, 'odyssey': 1164, 'sorcerer': 1517, 'apprentice': 95, 'crying': 393, 'clayton': 324, 'fish': 604, 'kranks': 935, '28': 15, 'laterâ': 949, 'atomic': 115, 'money': 1086, 'sleeps': 1495, 'inspector': 844, 'gadget': 649, 'coal': 336, 'miner': 1068, 'apart': 90, 'witness': 1819, 'timecop': 1646, 'whorehouse': 1806, 'whole': 1805, 'nine': 1142, 'yards': 1843, 'trinity': 1685, 'holes': 783, 'sister': 1483, 'keeper': 912, 'marked': 1028, 'ones': 1174, 'jasmine': 872, 'possession': 1277, 'insurrection': 847, 'chariots': 291, 'stay': 1550, 'going': 687, '30': 17, 'kick': 915, 'ass': 111, 'bird': 187, 'prestige': 1291, 'splash': 1533, 'spotlight': 1538, 'bajrangi': 138, 'bhaijaan': 179, 'quest': 1315, 'she': 1463, 'manchester': 1022, 'ladder': 938, '49': 22, 'score': 1426, 'southpaw': 1522, 'divine': 463, 'ya': 1840, 'sisterhood': 1484, 'tail': 1597, 'kitties': 926, 'cable': 261, 'any': 89, 'given': 675, 'sunday': 1585, 'knightâ': 929, 'tmnt': 1651, 'closer': 332, 'bfg': 178, 'hitman': 779, 'reader': 1332, 'bewitched': 176, 'beavis': 160, 'butt': 257, 'head': 758, 'do': 465, 'calendar': 263, 'courage': 372, 'under': 1711, 'hours': 804, 'favourite': 583, 'patton': 1218, 'business': 254, 'nim': 1141, 'perry': 1232, 'protection': 1304, 'honor': 790, 'band': 143, 'misfits': 1074, 'cell': 283, 'ninjago': 1144, 'daylight': 422, 'vicky': 1750, 'cristina': 386, 'barcelona': 146, 'floats': 611, 'walking': 1769, 'wilson': 1813}\n"
     ]
    }
   ],
   "source": [
    "# Exploration of Titles\n",
    "\n",
    "from sklearn.feature_extraction.text import CountVectorizer\n",
    "\n",
    "vocab_list = top_25_pct['movie']\n",
    "print(type(vocab_list.to_list()))\n",
    "coun_vect = CountVectorizer()\n",
    "coun_vect.fit_transform(vocab_list.to_list())\n",
    "print (\"Vocabulary:\")\n",
    "print((coun_vect.vocabulary_))\n",
    "\n",
    "#freq_term_matrix = coun_vect.transform(vocab_list)\n",
    "#print (freq_term_matrix.todense())\n",
    "\n",
    "#\"\"\"train_set = [\"The sky is blue.\", \"My future is bright.\", \"I have international level problems.\"]\n",
    "#test_set = [\"The sun in the sky is bright.\", \"We can see the shining sun, the bright sun.\"]\n",
    "#count_vectorizer = CountVectorizer()\n",
    "#count_vectorizer.fit_transform(train_set) # I like data science and I'd like to really go back to grad school in eng, eng mgmt\n",
    "#print (\"Vocabulary:\")\n",
    "#print(count_vectorizer.vocabulary_)\n",
    "#Vocab = list(count_vectorizer.vocabulary_)\n",
    "#print(Vocab)\n",
    "\n",
    "# Vocabulary: {'blue': 0, 'sun': 1, 'bright': 2, 'sky': 3}\n",
    "#freq_term_matrix = count_vectorizer.transform(test_set)\n",
    "#print (freq_term_matrix.todense())\n",
    "\n",
    "#count_array = freq_term_matrix.toarray()\n",
    "#df = pd.DataFrame(data=count_array, columns=Vocab)\n",
    "#print(df)\n",
    "\n",
    "#from sklearn.feature_extraction.text import TfidfTransformer\n",
    "#tfidf = TfidfTransformer(norm=\"l2\")\n",
    "#tfidf.fit(freq_term_matrix)\n",
    "#print (\"IDF:\")\n",
    "#print(tfidf.idf_)\"\"\"\n",
    "\n"
   ]
  },
  {
   "cell_type": "code",
   "execution_count": null,
   "metadata": {},
   "outputs": [
    {
     "name": "stdout",
     "output_type": "stream",
     "text": [
      "   id                                             review rating   fresh   \n",
      "0   3  A distinctly gallows take on contemporary fina...    3/5   fresh  \\\n",
      "1   3  It's an allegory in search of a meaning that n...    NaN  rotten   \n",
      "2   3  ... life lived in a bubble in financial dealin...    NaN   fresh   \n",
      "3   3  Continuing along a line introduced in last yea...    NaN   fresh   \n",
      "4   3             ... a perverse twist on neorealism...     NaN   fresh   \n",
      "\n",
      "           critic  top_critic         publisher               date  \n",
      "0      PJ Nabarro           0   Patrick Nabarro  November 10, 2018  \n",
      "1  Annalee Newitz           0           io9.com       May 23, 2018  \n",
      "2    Sean Axmaker           0  Stream on Demand    January 4, 2018  \n",
      "3   Daniel Kasman           0              MUBI  November 16, 2017  \n",
      "4             NaN           0      Cinema Scope   October 12, 2017  \n",
      "id             int64\n",
      "review        object\n",
      "rating        object\n",
      "fresh         object\n",
      "critic        object\n",
      "top_critic     int64\n",
      "publisher     object\n",
      "date          object\n",
      "dtype: object\n",
      "(54432, 8)\n",
      "Missing values by Column\n",
      "id: 0 missing values\n",
      "review: 5563 missing values\n",
      "rating: 13517 missing values\n",
      "fresh: 0 missing values\n",
      "critic: 2722 missing values\n",
      "top_critic: 0 missing values\n",
      "publisher: 309 missing values\n",
      "date: 0 missing values\n"
     ]
    }
   ],
   "source": [
    "#5) TSV - reviews, rt.reviews.tsv\n",
    "# ratings is in multiple different forms and would need manipulation\n",
    "\n",
    "movie_info = pd.read_csv('/home/bringingthesparkle/FlatIron/Movie_Data/rt.reviews.tsv', sep='\\t', encoding='latin1')\n",
    "print(movie_info.head(5))\n",
    "\n",
    "print(movie_info.dtypes)\n",
    "print(movie_info.shape) # Shape is (1560 by 12)\n",
    "\n",
    "# Assert that 'id' is a unique record and there are no missing values\n",
    "assert movie_info[\"id\"].isna().sum() == 0\n",
    "\n",
    "#Using missing values function to count NaNs per column\n",
    "missing_values(movie_info)"
   ]
  },
  {
   "cell_type": "code",
   "execution_count": 21,
   "metadata": {},
   "outputs": [
    {
     "name": "stdout",
     "output_type": "stream",
     "text": [
      "Unnamed: 0             int64\n",
      "genre_ids             object\n",
      "id                     int64\n",
      "original_language     object\n",
      "original_title        object\n",
      "popularity           float64\n",
      "release_date          object\n",
      "title                 object\n",
      "vote_average         float64\n",
      "vote_count             int64\n",
      "dtype: object\n",
      "       Unnamed: 0        genre_ids      id original_language   \n",
      "26512       26512         [27, 18]  488143                en  \\\n",
      "26513       26513         [18, 53]  485975                en   \n",
      "26514       26514     [14, 28, 12]  381231                en   \n",
      "26515       26515  [10751, 12, 28]  366854                en   \n",
      "26516       26516         [53, 27]  309885                en   \n",
      "\n",
      "              original_title  popularity release_date                  title   \n",
      "26512  Laboratory Conditions         0.6   2018-10-13  Laboratory Conditions  \\\n",
      "26513        _EXHIBIT_84xxx_         0.6   2018-05-01        _EXHIBIT_84xxx_   \n",
      "26514           The Last One         0.6   2018-10-01           The Last One   \n",
      "26515           Trailer Made         0.6   2018-06-22           Trailer Made   \n",
      "26516             The Church         0.6   2018-10-05             The Church   \n",
      "\n",
      "       vote_average  vote_count  \n",
      "26512           0.0           1  \n",
      "26513           0.0           1  \n",
      "26514           0.0           1  \n",
      "26515           0.0           1  \n",
      "26516           0.0           1  \n",
      "\n",
      "\n"
     ]
    }
   ],
   "source": [
    "#6) CSV - movies, tmdb_movies.csv\n",
    "import pandas as pd\n",
    "\n",
    "movie_tmdb = pd.read_csv('/home/bringingthesparkle/FlatIron/Movie_Data/tmdb.movies.csv', sep=',')\n",
    "\n",
    "print(movie_tmdb.dtypes)\n",
    "print(movie_tmdb.tail(5))\n",
    "print('\\n')\n",
    "\n",
    "# Assert that 'id' is a unique record and there are no missing values\n",
    "assert movie_tmdb[\"id\"].isna().sum() == 0\n",
    " #\n"
   ]
  },
  {
   "cell_type": "code",
   "execution_count": null,
   "metadata": {},
   "outputs": [
    {
     "name": "stdout",
     "output_type": "stream",
     "text": [
      "{\"genres\":[{\"id\":28,\"name\":\"Action\"},{\"id\":12,\"name\":\"Adventure\"},{\"id\":16,\"name\":\"Animation\"},{\"id\":35,\"name\":\"Comedy\"},{\"id\":80,\"name\":\"Crime\"},{\"id\":99,\"name\":\"Documentary\"},{\"id\":18,\"name\":\"Drama\"},{\"id\":10751,\"name\":\"Family\"},{\"id\":14,\"name\":\"Fantasy\"},{\"id\":36,\"name\":\"History\"},{\"id\":27,\"name\":\"Horror\"},{\"id\":10402,\"name\":\"Music\"},{\"id\":9648,\"name\":\"Mystery\"},{\"id\":10749,\"name\":\"Romance\"},{\"id\":878,\"name\":\"Science Fiction\"},{\"id\":10770,\"name\":\"TV Movie\"},{\"id\":53,\"name\":\"Thriller\"},{\"id\":10752,\"name\":\"War\"},{\"id\":37,\"name\":\"Western\"}]}\n"
     ]
    }
   ],
   "source": [
    "# Can get genre ids from API call to tmdb\n",
    "#https://www.themoviedb.org/settings/api\n",
    "# see https://www.sololearn.com/compiler-playground/WgZHrhC3dhbh/?ref=app\n",
    "\n",
    "import json\n",
    "import requests\n",
    "\n",
    "term = 'genres'\n",
    "\n",
    "def get_keys(path):\n",
    "    with open(path) as f:\n",
    "        return json.load(f)\n",
    "\n",
    "keys = get_keys(\"/home/bringingthesparkle/.secret/tmdb_api.json\")\n",
    "\n",
    "api_key = keys['api_key']\n",
    "\n",
    "#the api url that contains the dictionary of genre types.\n",
    "url = \"https://api.themoviedb.org/3//genre/movie/list\"\n",
    "\n",
    "headers = {\n",
    "    \"accept\": \"application/json\",\n",
    "    \"Authorization\": 'Bearer {}'.format(api_key),\n",
    "}\n",
    "\n",
    "url_params = {\n",
    "                'term': term.replace(\" \", \"+\")\n",
    "}\n",
    "\n",
    "response = requests.get(url, headers=headers, params = url_params)\n",
    "\n",
    "print(response.text)\n",
    "\n",
    "text_file = open(\"/home/bringingthesparkle/FlatIron/genre_ids.txt\", \"w\")\n",
    "n = text_file.write('response.text')\n",
    "text_file.close()\n",
    "\n",
    "# using json.loads() method\n",
    "result = json.loads(response.text)\n",
    "\n",
    "\n",
    "  \n"
   ]
  },
  {
   "cell_type": "code",
   "execution_count": null,
   "metadata": {},
   "outputs": [
    {
     "name": "stdout",
     "output_type": "stream",
     "text": [
      "{'genres': [{'id': 28, 'name': 'Action'}, {'id': 12, 'name': 'Adventure'}, {'id': 16, 'name': 'Animation'}, {'id': 35, 'name': 'Comedy'}, {'id': 80, 'name': 'Crime'}, {'id': 99, 'name': 'Documentary'}, {'id': 18, 'name': 'Drama'}, {'id': 10751, 'name': 'Family'}, {'id': 14, 'name': 'Fantasy'}, {'id': 36, 'name': 'History'}, {'id': 27, 'name': 'Horror'}, {'id': 10402, 'name': 'Music'}, {'id': 9648, 'name': 'Mystery'}, {'id': 10749, 'name': 'Romance'}, {'id': 878, 'name': 'Science Fiction'}, {'id': 10770, 'name': 'TV Movie'}, {'id': 53, 'name': 'Thriller'}, {'id': 10752, 'name': 'War'}, {'id': 37, 'name': 'Western'}]}\n",
      "[{'id': 28, 'name': 'Action'}, {'id': 12, 'name': 'Adventure'}, {'id': 16, 'name': 'Animation'}, {'id': 35, 'name': 'Comedy'}, {'id': 80, 'name': 'Crime'}, {'id': 99, 'name': 'Documentary'}, {'id': 18, 'name': 'Drama'}, {'id': 10751, 'name': 'Family'}, {'id': 14, 'name': 'Fantasy'}, {'id': 36, 'name': 'History'}, {'id': 27, 'name': 'Horror'}, {'id': 10402, 'name': 'Music'}, {'id': 9648, 'name': 'Mystery'}, {'id': 10749, 'name': 'Romance'}, {'id': 878, 'name': 'Science Fiction'}, {'id': 10770, 'name': 'TV Movie'}, {'id': 53, 'name': 'Thriller'}, {'id': 10752, 'name': 'War'}, {'id': 37, 'name': 'Western'}]\n"
     ]
    }
   ],
   "source": [
    "#continuing without making another API call\n",
    "print(result)\n",
    "genre_list = result['genres']\n",
    "print(genre_list)\n",
    "\n"
   ]
  },
  {
   "cell_type": "code",
   "execution_count": 27,
   "metadata": {},
   "outputs": [
    {
     "name": "stdout",
     "output_type": "stream",
     "text": [
      "There are 39 unique genre ids.\n",
      "['12', ' 14', ' 10751', '14', ' 12', ' 16', ' 28', ' 878', '16', ' 35', '28', '10751', '53', '27', ' 80', ' 18', ' 10749', ' 53', '10402', '18', ' 9648', ' 36', '35', '80', '10749', ' 37', ' 27', '10770', '9648', ' 10752', ' 10402', ' 10770', '10752', ' 99', '878', '99', '36', '', '37']\n",
      "   Genre_id  Genre_Counts\n",
      "19       18          4923\n",
      "35       99          4407\n",
      "22       35          3632\n",
      "15       18          3380\n",
      "17       53          2674\n",
      "37                   2479\n",
      "13       27          2209\n",
      "9        35          2020\n",
      "10       28          1651\n",
      "16    10749          1627\n",
      "12       53          1533\n",
      "26       27          1474\n",
      "7       878          1190\n",
      "2     10751          1106\n",
      "14       80           977\n",
      "6        28           961\n",
      "20     9648           950\n",
      "8        16           917\n",
      "4        12           855\n",
      "1        14           822\n",
      "31    10770           719\n",
      "24    10749           694\n",
      "18    10402           678\n",
      "30    10402           589\n",
      "34      878           572\n",
      "5        16           569\n",
      "33       99           558\n",
      "0        12           545\n",
      "23       80           538\n",
      "21       36           495\n",
      "11    10751           459\n",
      "27    10770           365\n",
      "3        14           317\n",
      "28     9648           287\n",
      "29    10752           227\n",
      "36       36           127\n",
      "25       37           124\n",
      "32    10752           103\n",
      "38       37            81\n"
     ]
    }
   ],
   "source": [
    "#movie_tmdb and genre_ids\n",
    "movie_genre_ids = []\n",
    "genre_id_dict = {}\n",
    "\n",
    "for index, row in movie_tmdb.iterrows():\n",
    "    massage = row['genre_ids']\n",
    "    massage = massage.replace(\"[\", \"\")\n",
    "    massage = massage.replace(\"]\", \"\")\n",
    "    data = massage.split(\",\")\n",
    "    #print (data)\n",
    "    for id in data:\n",
    "        if id in movie_genre_ids:\n",
    "            genre_id_dict[id] +=1\n",
    "        else:\n",
    "            movie_genre_ids.append(id)\n",
    "            genre_id_dict[id] = 1\n",
    "\n",
    "    \n",
    "\n",
    "print(\"There are \" + str(len(movie_genre_ids)) + \" unique genre ids.\")\n",
    "print (movie_genre_ids)\n",
    "\n",
    "df_id = pd.DataFrame(genre_id_dict.items(), columns=[\"Genre_id\", \"Genre_Counts\"])\n",
    "print (df_id.sort_values(by=['Genre_Counts'], ascending = False))"
   ]
  },
  {
   "cell_type": "code",
   "execution_count": null,
   "metadata": {},
   "outputs": [
    {
     "name": "stdout",
     "output_type": "stream",
     "text": [
      "Missing values by Column\n",
      "Unnamed: 0: 0 missing values\n",
      "genre_ids: 0 missing values\n",
      "id: 0 missing values\n",
      "original_language: 0 missing values\n",
      "original_title: 0 missing values\n",
      "popularity: 0 missing values\n",
      "release_date: 0 missing values\n",
      "title: 0 missing values\n",
      "vote_average: 0 missing values\n",
      "vote_count: 0 missing values\n"
     ]
    }
   ],
   "source": [
    "# check for missing values\n",
    "missing_values(movie_tmdb) "
   ]
  },
  {
   "cell_type": "code",
   "execution_count": null,
   "metadata": {},
   "outputs": [],
   "source": [
    "# Attempting to inner join movie_budgets df & and on movie title "
   ]
  },
  {
   "cell_type": "code",
   "execution_count": null,
   "metadata": {},
   "outputs": [],
   "source": [
    "\n",
    "# Gotta close that SQL file connection from earlier\n",
    "conn.close()"
   ]
  },
  {
   "cell_type": "code",
   "execution_count": null,
   "metadata": {},
   "outputs": [],
   "source": []
  }
 ],
 "metadata": {
  "kernelspec": {
   "display_name": "Python 3",
   "language": "python",
   "name": "python3"
  },
  "language_info": {
   "codemirror_mode": {
    "name": "ipython",
    "version": 3
   },
   "file_extension": ".py",
   "mimetype": "text/x-python",
   "name": "python",
   "nbconvert_exporter": "python",
   "pygments_lexer": "ipython3",
   "version": "3.10.7"
  },
  "orig_nbformat": 4
 },
 "nbformat": 4,
 "nbformat_minor": 2
}
