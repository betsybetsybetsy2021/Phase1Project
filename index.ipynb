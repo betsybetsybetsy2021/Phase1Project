{
 "cells": [
  {
   "cell_type": "code",
   "execution_count": 1,
   "metadata": {},
   "outputs": [],
   "source": [
    "\"\"\" This is Phase 1 project Movie Data Exploration File started on 6 May 2023\"\"\"\n",
    "\"\"\" FIVE DATASETS: \n",
    "1. SQL - MOVIE DATA, im.db\n",
    "2. CSV - movie grosses, bom.movie_gross.csv\n",
    "3. TSV - movie info, rt.movie_info.tsv\n",
    "4. CSV - MOVIE BUDGETS, movie_budgets.csv\n",
    "5. TSV - reviews, rt.reviews.tsv\n",
    "6. CSV - movies, movies.csv\"\"\"\n",
    "\n",
    "import pandas as pd\n",
    "import numpy as np\n",
    "import sqlite3\n",
    "import os\n",
    "import zlib\n",
    "import zipfile\n",
    "from zipfile import ZipFile\n",
    "from sklearn.feature_extraction.text import TfidfVectorizer\n",
    "from sklearn.feature_extraction.text import CountVectorizer\n",
    "from pathlib import Path  \n",
    "import glob\n"
   ]
  },
  {
   "cell_type": "code",
   "execution_count": 2,
   "metadata": {},
   "outputs": [],
   "source": [
    "#This is a function to find the number of missing values per column in a dataframe\n",
    "def missing_values(df_name):\n",
    "    \"\"\"This function iterates to find the number of missing values per column\"\"\"\n",
    "    print (\"Missing values by Column\")\n",
    "    for col in df_name.columns:\n",
    "        missing = df_name[col].isna().sum()\n",
    "        print (str(col) + \": \" + str(missing) + \" missing values\")\n",
    "    return"
   ]
  },
  {
   "cell_type": "code",
   "execution_count": 3,
   "metadata": {},
   "outputs": [],
   "source": [
    "# This is a function to create a table of Value Counts for a particular column\n",
    "def column_value_counts(df_name, col_name):\n",
    "    list1 = []\n",
    "    list_dict = {}\n",
    "    for index, row in df_name.iterrows():\n",
    "        value = row[col_name]\n",
    "        if value in list1:\n",
    "            list_dict[col_name] +=1\n",
    "            continue\n",
    "        else:\n",
    "            list1.append(value)\n",
    "            list_dict[col_name] = 1\n",
    "\n",
    "    print(\"There are \" + str(len(list1)) + \" unique.\")\n",
    "    return"
   ]
  },
  {
   "cell_type": "code",
   "execution_count": 4,
   "metadata": {},
   "outputs": [
    {
     "data": {
      "text/html": [
       "<div>\n",
       "<style scoped>\n",
       "    .dataframe tbody tr th:only-of-type {\n",
       "        vertical-align: middle;\n",
       "    }\n",
       "\n",
       "    .dataframe tbody tr th {\n",
       "        vertical-align: top;\n",
       "    }\n",
       "\n",
       "    .dataframe thead th {\n",
       "        text-align: right;\n",
       "    }\n",
       "</style>\n",
       "<table border=\"1\" class=\"dataframe\">\n",
       "  <thead>\n",
       "    <tr style=\"text-align: right;\">\n",
       "      <th></th>\n",
       "      <th>movie_id</th>\n",
       "      <th>ordering</th>\n",
       "      <th>person_id</th>\n",
       "      <th>category</th>\n",
       "      <th>job</th>\n",
       "      <th>characters</th>\n",
       "    </tr>\n",
       "  </thead>\n",
       "  <tbody>\n",
       "    <tr>\n",
       "      <th>0</th>\n",
       "      <td>tt0111414</td>\n",
       "      <td>1</td>\n",
       "      <td>nm0246005</td>\n",
       "      <td>actor</td>\n",
       "      <td>None</td>\n",
       "      <td>[\"The Man\"]</td>\n",
       "    </tr>\n",
       "    <tr>\n",
       "      <th>1</th>\n",
       "      <td>tt0111414</td>\n",
       "      <td>2</td>\n",
       "      <td>nm0398271</td>\n",
       "      <td>director</td>\n",
       "      <td>None</td>\n",
       "      <td>None</td>\n",
       "    </tr>\n",
       "    <tr>\n",
       "      <th>2</th>\n",
       "      <td>tt0111414</td>\n",
       "      <td>3</td>\n",
       "      <td>nm3739909</td>\n",
       "      <td>producer</td>\n",
       "      <td>producer</td>\n",
       "      <td>None</td>\n",
       "    </tr>\n",
       "    <tr>\n",
       "      <th>3</th>\n",
       "      <td>tt0323808</td>\n",
       "      <td>10</td>\n",
       "      <td>nm0059247</td>\n",
       "      <td>editor</td>\n",
       "      <td>None</td>\n",
       "      <td>None</td>\n",
       "    </tr>\n",
       "    <tr>\n",
       "      <th>4</th>\n",
       "      <td>tt0323808</td>\n",
       "      <td>1</td>\n",
       "      <td>nm3579312</td>\n",
       "      <td>actress</td>\n",
       "      <td>None</td>\n",
       "      <td>[\"Beth Boothby\"]</td>\n",
       "    </tr>\n",
       "  </tbody>\n",
       "</table>\n",
       "</div>"
      ],
      "text/plain": [
       "    movie_id  ordering  person_id  category       job        characters\n",
       "0  tt0111414         1  nm0246005     actor      None       [\"The Man\"]\n",
       "1  tt0111414         2  nm0398271  director      None              None\n",
       "2  tt0111414         3  nm3739909  producer  producer              None\n",
       "3  tt0323808        10  nm0059247    editor      None              None\n",
       "4  tt0323808         1  nm3579312   actress      None  [\"Beth Boothby\"]"
      ]
     },
     "execution_count": 4,
     "metadata": {},
     "output_type": "execute_result"
    }
   ],
   "source": [
    "# 1) SQL - MOVIE DATA  \n",
    "\n",
    "# Extract SQL db from zip\n",
    "# ZipFile.extractall(file_path , members=None, pwd=None)Home\\MovieData\\\n",
    "\n",
    "\n",
    "#textFile = zipfile.ZipFile(\"/home/hatenotwelcome/MovieData/im.db.zip\", \"r\")\n",
    "#textFile.close()\n",
    "\n",
    "#SQL DB includes 8 tables: principals, known-for, directors, writers, persons, movie_basics, movie_ratings, movie_akas\n",
    "# principals: *movie_id, \n",
    "\n",
    "conn = sqlite3.Connection(\"/home/bringingthesparkle/FlatIron/Movie_Data/im.db\")\n",
    "\n",
    "q = \"\"\"\n",
    "SELECT *\n",
    "FROM principals\n",
    "LIMIT 5\n",
    ";\n",
    "\"\"\"\n",
    "\n",
    "pd.read_sql(q, conn)\n",
    "\n",
    "# Connection closed at bottome of file"
   ]
  },
  {
   "cell_type": "code",
   "execution_count": 5,
   "metadata": {},
   "outputs": [
    {
     "name": "stdout",
     "output_type": "stream",
     "text": [
      "title              object\n",
      "studio             object\n",
      "domestic_gross    float64\n",
      "foreign_gross      object\n",
      "year                int64\n",
      "dtype: object\n",
      "                            title      studio  domestic_gross foreign_gross   \n",
      "3382                    The Quake       Magn.          6200.0           NaN  \\\n",
      "3383  Edward II (2018 re-release)          FM          4800.0           NaN   \n",
      "3384                     El Pacto        Sony          2500.0           NaN   \n",
      "3385                     The Swan  Synergetic          2400.0           NaN   \n",
      "3386            An Actor Prepares       Grav.          1700.0           NaN   \n",
      "\n",
      "      year  \n",
      "3382  2018  \n",
      "3383  2018  \n",
      "3384  2018  \n",
      "3385  2018  \n",
      "3386  2018  \n",
      "\n",
      "\n",
      "Missing values by Column\n",
      "title: 0 missing values\n",
      "studio: 5 missing values\n",
      "domestic_gross: 28 missing values\n",
      "foreign_gross: 1350 missing values\n",
      "year: 0 missing values\n"
     ]
    }
   ],
   "source": [
    "# 2) MOVIE GROSSES\n",
    "\n",
    "#This is the CSV containing  movie names and their domestic grosses and foreign grosses\n",
    "# In this table, title has no missing values, but not sure if all unique, adding an index might be necessary\n",
    "movie_grosses = pd.read_csv('/home/bringingthesparkle/FlatIron/Movie_Data/bom.movie_gross.csv.gz', sep=',')\n",
    "\n",
    "print(movie_grosses.dtypes)\n",
    "print(movie_grosses.tail(5))\n",
    "print('\\n')\n",
    "\n",
    "missing_values(movie_grosses)\n"
   ]
  },
  {
   "cell_type": "code",
   "execution_count": 6,
   "metadata": {},
   "outputs": [
    {
     "name": "stdout",
     "output_type": "stream",
     "text": [
      "3359\n",
      "There are 256 unique.\n",
      "Empty DataFrame\n",
      "Columns: [Studio, Studio_Count]\n",
      "Index: []\n"
     ]
    }
   ],
   "source": [
    "# creating new dataframe to represent only those with domestic gross, removing rows without\n",
    "movie_grosses_domestic = movie_grosses.dropna(subset=['domestic_gross'])\n",
    "# The initial shape had 3387 rows and 28 less is 3359\n",
    "print (len(movie_grosses_domestic))\n",
    "                                        \n",
    "# then split/apply/combine on studio\n",
    "studios = []\n",
    "studios_dict = {}\n",
    "\n",
    "\n",
    "\n",
    "\n",
    "column_value_counts(movie_grosses_domestic, 'studio')\n",
    "\n",
    "#for index, row in movie_grosses_domestic.iterrows():\n",
    "#    studio = row['studio']\n",
    "#    if studio in studios:\n",
    "#        studios_dict[studio] +=1\n",
    "#        continue\n",
    "#    else:\n",
    "#        studios.append(studio)\n",
    "#        studios_dict[studio] = 1\n",
    "\n",
    "#print(\"There are \" + str(len(studios)) + \" unique studios.\")\n",
    "#print (studios)\n",
    "\n",
    "df = pd.DataFrame(studios_dict.items(), columns=[\"Studio\", \"Studio_Count\"])\n",
    "print (df.sort_values(by=['Studio_Count'], ascending = False))\n",
    "\n"
   ]
  },
  {
   "cell_type": "code",
   "execution_count": null,
   "metadata": {},
   "outputs": [],
   "source": []
  },
  {
   "cell_type": "code",
   "execution_count": 7,
   "metadata": {},
   "outputs": [
    {
     "name": "stdout",
     "output_type": "stream",
     "text": [
      "(3387, 5)\n"
     ]
    }
   ],
   "source": [
    "# replace NaNS with Unknowns\n",
    "movie_grosses = movie_grosses.replace(np.nan, 'Unknown')\n",
    "\n",
    "for col in movie_grosses.columns:\n",
    "    assert movie_grosses[col].isna().sum() == 0\n",
    "\n",
    "print(movie_grosses.shape)"
   ]
  },
  {
   "cell_type": "code",
   "execution_count": 8,
   "metadata": {},
   "outputs": [
    {
     "name": "stdout",
     "output_type": "stream",
     "text": [
      "Missing values by Column\n",
      "id: 0 missing values\n",
      "synopsis: 62 missing values\n",
      "rating: 3 missing values\n",
      "genre: 8 missing values\n",
      "director: 199 missing values\n",
      "writer: 449 missing values\n",
      "theater_date: 359 missing values\n",
      "dvd_date: 359 missing values\n",
      "currency: 1220 missing values\n",
      "box_office: 1220 missing values\n",
      "runtime: 30 missing values\n",
      "studio: 1066 missing values\n"
     ]
    }
   ],
   "source": [
    "#3) CSV - MOVIE INFO\n",
    "\n",
    "# This is the CSV with movie information with columns: id, synopsis, rating, genre, director, writer, theater_date, dvd_date, currency, box_office, runtime, studio.\n",
    "# ID has type int64, all others are mixed type objects and may need cleaning. \n",
    "movie_info = pd.read_csv('/home/bringingthesparkle/FlatIron/Movie_Data/rt.movie_info.tsv', sep='\\t')\n",
    "#print(movie_info.head(2))\n",
    "\n",
    "#print(movie_info.dtypes)\n",
    "#print(movie_info.shape) # Shape is (1560 by 12)\n",
    "\n",
    "# Assert that 'id' is a unique record and there are no missing values\n",
    "assert movie_info[\"id\"].isna().sum() == 0\n",
    "\n",
    "#Using missing values function to count NaNs per column\n",
    "missing_values(movie_info)\n"
   ]
  },
  {
   "cell_type": "code",
   "execution_count": 9,
   "metadata": {},
   "outputs": [],
   "source": [
    "# Replacing NaNs and asserting that none remain\n",
    "\n",
    "movie_info = movie_info.replace(np.nan, 'Unknown')\n",
    "\n",
    "for col in movie_info.columns:\n",
    "    assert movie_info[col].isna().sum() == 0"
   ]
  },
  {
   "cell_type": "code",
   "execution_count": 10,
   "metadata": {},
   "outputs": [
    {
     "data": {
      "text/plain": [
       "genre\n",
       "Drama                                              151\n",
       "Comedy                                             110\n",
       "Comedy|Drama                                        80\n",
       "Drama|Mystery and Suspense                          67\n",
       "Art House and International|Drama                   62\n",
       "Action and Adventure|Drama                          42\n",
       "Action and Adventure|Drama|Mystery and Suspense     40\n",
       "Drama|Romance                                       35\n",
       "Comedy|Romance                                      32\n",
       "Art House and International|Comedy|Drama            31\n",
       "Name: count, dtype: int64"
      ]
     },
     "execution_count": 10,
     "metadata": {},
     "output_type": "execute_result"
    }
   ],
   "source": [
    "movie_info[\"genre\"].value_counts().nlargest(10)\n",
    "# Clearly the genre column contains more than one category and would be best if separated into dictionaries where you can query on the key"
   ]
  },
  {
   "cell_type": "code",
   "execution_count": 11,
   "metadata": {},
   "outputs": [
    {
     "name": "stdout",
     "output_type": "stream",
     "text": [
      "There are 22 unique genres.\n",
      "['Action and Adventure', 'Classics', 'Drama', 'Science Fiction and Fantasy', 'Musical and Performing Arts', 'Mystery and Suspense', 'Romance', 'Kids and Family', 'Comedy', 'Unknown', 'Documentary', 'Special Interest', 'Art House and International', 'Horror', 'Western', 'Television', 'Sports and Fitness', 'Animation', 'Faith and Spirituality', 'Cult Movies', 'Anime and Manga', 'Gay and Lesbian']\n",
      "                          Genre  Genre_Counts\n",
      "2                         Drama           912\n",
      "8                        Comedy           550\n",
      "0          Action and Adventure           366\n",
      "5          Mystery and Suspense           309\n",
      "12  Art House and International           265\n",
      "6                       Romance           198\n",
      "1                      Classics           193\n",
      "3   Science Fiction and Fantasy           172\n",
      "13                       Horror           134\n",
      "7               Kids and Family            99\n",
      "4   Musical and Performing Arts            98\n",
      "10                  Documentary            69\n",
      "11             Special Interest            61\n",
      "14                      Western            48\n",
      "17                    Animation            47\n",
      "15                   Television            23\n",
      "18       Faith and Spirituality            11\n",
      "16           Sports and Fitness            10\n",
      "9                       Unknown             8\n",
      "19                  Cult Movies             4\n",
      "20              Anime and Manga             2\n",
      "21              Gay and Lesbian             2\n"
     ]
    }
   ],
   "source": [
    "# Massage the data \n",
    "\n",
    "# Create a list of all genres to query on.\n",
    "movie_genres = []\n",
    "movie_genre_dict = {}\n",
    "\n",
    "for index, row in movie_info.iterrows():\n",
    "    massage = row['genre']\n",
    "    data = massage.split(\"|\")\n",
    "    #print (data)\n",
    "    for word in data:\n",
    "        if word in movie_genres:\n",
    "            movie_genre_dict[word] +=1\n",
    "        else:\n",
    "            movie_genres.append(word)\n",
    "            movie_genre_dict[word] = 1\n",
    "\n",
    "    \n",
    "\n",
    "print(\"There are \" + str(len(movie_genres)) + \" unique genres.\")\n",
    "print (movie_genres)\n",
    "\n",
    "df = pd.DataFrame(movie_genre_dict.items(), columns=[\"Genre\", \"Genre_Counts\"])\n",
    "print (df.sort_values(by=['Genre_Counts'], ascending = False))\n"
   ]
  },
  {
   "cell_type": "code",
   "execution_count": 12,
   "metadata": {},
   "outputs": [
    {
     "name": "stdout",
     "output_type": "stream",
     "text": [
      "id                    int64\n",
      "release_date         object\n",
      "movie                object\n",
      "production_budget    object\n",
      "domestic_gross       object\n",
      "worldwide_gross      object\n",
      "dtype: object\n",
      "      id  release_date                          movie production_budget   \n",
      "5777  78  Dec 31, 2018                         Red 11            $7,000  \\\n",
      "5778  79   Apr 2, 1999                      Following            $6,000   \n",
      "5779  80  Jul 13, 2005  Return to the Land of Wonders            $5,000   \n",
      "5780  81  Sep 29, 2015           A Plague So Pleasant            $1,400   \n",
      "5781  82   Aug 5, 2005              My Date With Drew            $1,100   \n",
      "\n",
      "     domestic_gross worldwide_gross  \n",
      "5777             $0              $0  \n",
      "5778        $48,482        $240,495  \n",
      "5779         $1,338          $1,338  \n",
      "5780             $0              $0  \n",
      "5781       $181,041        $181,041  \n",
      "\n",
      "\n",
      "Missing values by Column\n",
      "id: 0 missing values\n",
      "release_date: 0 missing values\n",
      "movie: 0 missing values\n",
      "production_budget: 0 missing values\n",
      "domestic_gross: 0 missing values\n",
      "worldwide_gross: 0 missing values\n"
     ]
    }
   ],
   "source": [
    "# 4) CSV - MOVIE BUDGETS\n",
    "#This is the file tn.movie_budgets.csv.gz. \n",
    "\n",
    "movie_budgets = pd.read_csv('/home/bringingthesparkle/FlatIron/Movie_Data/tn.movie_budgets.csv.gz', sep=',')\n",
    "\n",
    "print(movie_budgets.dtypes)\n",
    "print(movie_budgets.tail(5))\n",
    "print('\\n')\n",
    "\n",
    "missing_values(movie_budgets)  #"
   ]
  },
  {
   "cell_type": "code",
   "execution_count": 47,
   "metadata": {},
   "outputs": [
    {
     "name": "stdout",
     "output_type": "stream",
     "text": [
      "Vocabulary:\n",
      "{'the': 5, 'sky': 3, 'is': 2, 'blue': 0, 'sun': 4, 'bright': 1}\n",
      "['the', 'sky', 'is', 'blue', 'sun', 'bright']\n",
      "[[0 1 1 1 1 2]\n",
      " [0 1 0 0 2 2]]\n",
      "   the  sky  is  blue  sun  bright\n",
      "0    0    1   1     1    1       2\n",
      "1    0    1   0     0    2       2\n",
      "IDF:\n",
      "[2.09861229 1.         1.40546511 1.40546511 1.         1.        ]\n"
     ]
    }
   ],
   "source": [
    "# Exploration of Title Counts\n",
    "\n",
    "\n",
    "from sklearn.feature_extraction.text import CountVectorizer\n",
    "\n",
    "train_set = [\"The sky is blue.\", \"The sun is bright.\"]\n",
    "test_set = [\"The sun in the sky is bright.\", \"We can see the shining sun, the bright sun.\"]\n",
    "count_vectorizer = CountVectorizer()\n",
    "count_vectorizer.fit_transform(train_set) # I like data science and I'd like to really go back to grad school in eng, eng mgmt\n",
    "print (\"Vocabulary:\")\n",
    "print(count_vectorizer.vocabulary_)\n",
    "Vocab = list(count_vectorizer.vocabulary_)\n",
    "print(Vocab)\n",
    "\n",
    "# Vocabulary: {'blue': 0, 'sun': 1, 'bright': 2, 'sky': 3}\n",
    "freq_term_matrix = count_vectorizer.transform(test_set)\n",
    "print (freq_term_matrix.todense())\n",
    "\n",
    "count_array = freq_term_matrix.toarray()\n",
    "df = pd.DataFrame(data=count_array, columns=Vocab)\n",
    "print(df)\n",
    "\n",
    "from sklearn.feature_extraction.text import TfidfTransformer\n",
    "tfidf = TfidfTransformer(norm=\"l2\")\n",
    "tfidf.fit(freq_term_matrix)\n",
    "print (\"IDF:\")\n",
    "print(tfidf.idf_)\n",
    "\n"
   ]
  },
  {
   "cell_type": "code",
   "execution_count": null,
   "metadata": {},
   "outputs": [
    {
     "name": "stdout",
     "output_type": "stream",
     "text": [
      "   id                                             review rating   fresh   \n",
      "0   3  A distinctly gallows take on contemporary fina...    3/5   fresh  \\\n",
      "1   3  It's an allegory in search of a meaning that n...    NaN  rotten   \n",
      "\n",
      "           critic  top_critic        publisher               date  \n",
      "0      PJ Nabarro           0  Patrick Nabarro  November 10, 2018  \n",
      "1  Annalee Newitz           0          io9.com       May 23, 2018  \n",
      "id             int64\n",
      "review        object\n",
      "rating        object\n",
      "fresh         object\n",
      "critic        object\n",
      "top_critic     int64\n",
      "publisher     object\n",
      "date          object\n",
      "dtype: object\n",
      "(54432, 8)\n",
      "Missing values by Column\n",
      "id: 0 missing values\n",
      "review: 5563 missing values\n",
      "rating: 13517 missing values\n",
      "fresh: 0 missing values\n",
      "critic: 2722 missing values\n",
      "top_critic: 0 missing values\n",
      "publisher: 309 missing values\n",
      "date: 0 missing values\n"
     ]
    }
   ],
   "source": [
    "#5) TSV - reviews, rt.reviews.tsv\n",
    "# ratings is in multiple different forms and would need manipulation\n",
    "\n",
    "movie_info = pd.read_csv('/home/bringingthesparkle/FlatIron/Movie_Data/rt.reviews.tsv', sep='\\t', encoding='latin1')\n",
    "print(movie_info.head(2))\n",
    "\n",
    "print(movie_info.dtypes)\n",
    "print(movie_info.shape) # Shape is (1560 by 12)\n",
    "\n",
    "# Assert that 'id' is a unique record and there are no missing values\n",
    "assert movie_info[\"id\"].isna().sum() == 0\n",
    "\n",
    "#Using missing values function to count NaNs per column\n",
    "missing_values(movie_info)"
   ]
  },
  {
   "cell_type": "code",
   "execution_count": null,
   "metadata": {},
   "outputs": [
    {
     "name": "stdout",
     "output_type": "stream",
     "text": [
      "Unnamed: 0             int64\n",
      "genre_ids             object\n",
      "id                     int64\n",
      "original_language     object\n",
      "original_title        object\n",
      "popularity           float64\n",
      "release_date          object\n",
      "title                 object\n",
      "vote_average         float64\n",
      "vote_count             int64\n",
      "dtype: object\n",
      "       Unnamed: 0        genre_ids      id original_language   \n",
      "26512       26512         [27, 18]  488143                en  \\\n",
      "26513       26513         [18, 53]  485975                en   \n",
      "26514       26514     [14, 28, 12]  381231                en   \n",
      "26515       26515  [10751, 12, 28]  366854                en   \n",
      "26516       26516         [53, 27]  309885                en   \n",
      "\n",
      "              original_title  popularity release_date                  title   \n",
      "26512  Laboratory Conditions         0.6   2018-10-13  Laboratory Conditions  \\\n",
      "26513        _EXHIBIT_84xxx_         0.6   2018-05-01        _EXHIBIT_84xxx_   \n",
      "26514           The Last One         0.6   2018-10-01           The Last One   \n",
      "26515           Trailer Made         0.6   2018-06-22           Trailer Made   \n",
      "26516             The Church         0.6   2018-10-05             The Church   \n",
      "\n",
      "       vote_average  vote_count  \n",
      "26512           0.0           1  \n",
      "26513           0.0           1  \n",
      "26514           0.0           1  \n",
      "26515           0.0           1  \n",
      "26516           0.0           1  \n",
      "\n",
      "\n"
     ]
    }
   ],
   "source": [
    "#6) CSV - movies, tmdb_movies.csv\n",
    "\n",
    "movie_budgets = pd.read_csv('/home/bringingthesparkle/FlatIron/Movie_Data/tmdb.movies.csv', sep=',')\n",
    "\n",
    "print(movie_budgets.dtypes)\n",
    "print(movie_budgets.tail(5))\n",
    "print('\\n')\n",
    "\n",
    "# Assert that 'id' is a unique record and there are no missing values\n",
    "assert movie_info[\"id\"].isna().sum() == 0\n",
    " #\n"
   ]
  },
  {
   "cell_type": "code",
   "execution_count": null,
   "metadata": {},
   "outputs": [
    {
     "name": "stdout",
     "output_type": "stream",
     "text": [
      "Missing values by Column\n",
      "Unnamed: 0: 0 missing values\n",
      "genre_ids: 0 missing values\n",
      "id: 0 missing values\n",
      "original_language: 0 missing values\n",
      "original_title: 0 missing values\n",
      "popularity: 0 missing values\n",
      "release_date: 0 missing values\n",
      "title: 0 missing values\n",
      "vote_average: 0 missing values\n",
      "vote_count: 0 missing values\n"
     ]
    }
   ],
   "source": [
    "# check for missing values\n",
    "missing_values(movie_budgets) "
   ]
  },
  {
   "cell_type": "code",
   "execution_count": null,
   "metadata": {},
   "outputs": [],
   "source": [
    "\n",
    "# Gotta close that SQL file connection from earlier\n",
    "conn.close()"
   ]
  },
  {
   "cell_type": "code",
   "execution_count": null,
   "metadata": {},
   "outputs": [],
   "source": []
  }
 ],
 "metadata": {
  "kernelspec": {
   "display_name": "Python 3",
   "language": "python",
   "name": "python3"
  },
  "language_info": {
   "codemirror_mode": {
    "name": "ipython",
    "version": 3
   },
   "file_extension": ".py",
   "mimetype": "text/x-python",
   "name": "python",
   "nbconvert_exporter": "python",
   "pygments_lexer": "ipython3",
   "version": "3.10.7"
  },
  "orig_nbformat": 4
 },
 "nbformat": 4,
 "nbformat_minor": 2
}
